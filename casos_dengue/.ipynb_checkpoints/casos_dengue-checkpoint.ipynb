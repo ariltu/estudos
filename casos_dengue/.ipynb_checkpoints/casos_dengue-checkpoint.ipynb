{
 "cells": [
  {
   "cell_type": "code",
   "execution_count": 3,
   "metadata": {
    "collapsed": true
   },
   "outputs": [],
   "source": [
    "anos = range(1990, 2007)\n",
    "casos_dengue = [-1,-1,0,-1,3.343,8.191,6.316,3.709,\n",
    "                6.412,147,1.618,10.530,21.936,8.504,\n",
    "                5.635,18.058,23.770,14.820,39.075,43.411,\n",
    "                102.071,33.960,24.517,139.357,93.929]"
   ]
  },
  {
   "cell_type": "code",
   "execution_count": null,
   "metadata": {
    "collapsed": true
   },
   "outputs": [],
   "source": []
  }
 ],
 "metadata": {
  "kernelspec": {
   "display_name": "Python 2",
   "language": "python",
   "name": "python2"
  },
  "language_info": {
   "codemirror_mode": {
    "name": "ipython",
    "version": 2
   },
   "file_extension": ".py",
   "mimetype": "text/x-python",
   "name": "python",
   "nbconvert_exporter": "python",
   "pygments_lexer": "ipython2",
   "version": "2.7.11"
  }
 },
 "nbformat": 4,
 "nbformat_minor": 1
}
