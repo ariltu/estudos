{
 "cells": [
  {
   "cell_type": "code",
   "execution_count": 45,
   "metadata": {
    "collapsed": true
   },
   "outputs": [],
   "source": [
    "import csv, random"
   ]
  },
  {
   "cell_type": "code",
   "execution_count": 80,
   "metadata": {
    "collapsed": true
   },
   "outputs": [],
   "source": [
    "def calcular_media(amostra):\n",
    "    soma = 0\n",
    "    for x in amostra:\n",
    "        soma += x\n",
    "    return soma / len(amostra)\n",
    "\n",
    "def numeros_aleatorios(qtd,a, b):\n",
    "    lista = []\n",
    "    for x in range(qtd):\n",
    "        lista.append(random.randint(a, b))\n",
    "    return lista\n",
    "\n",
    "casos_dengue = [3343,8191,6316,3709,6412,147,\n",
    "                1618,1053,21936,8504,5635,18058,\n",
    "                2377,1482,39075,43411,102071,\n",
    "                3396,24517,139357,93929]\n",
    "total = len(casos_dengue)"
   ]
  },
  {
   "cell_type": "code",
   "execution_count": 90,
   "metadata": {
    "collapsed": false
   },
   "outputs": [],
   "source": [
    "boostrap_samples = []\n",
    "\n",
    "numero_amostras = 100000\n",
    "tamanho_subamostras = 16\n",
    "\n",
    "for i in range(numero_amostras):\n",
    "    boostrap_samples.append([casos_dengue[x] for x in numeros_aleatorios(tamanho_subamostras, 0, 20)])\n"
   ]
  },
  {
   "cell_type": "code",
   "execution_count": 91,
   "metadata": {
    "collapsed": false
   },
   "outputs": [],
   "source": [
    "medias = []\n",
    "for sample in boostrap_samples:\n",
    "    medias.append(calcular_media(sample))\n",
    "    "
   ]
  },
  {
   "cell_type": "code",
   "execution_count": 92,
   "metadata": {
    "collapsed": false
   },
   "outputs": [],
   "source": [
    "with open('medias_aleatorias.csv', 'w') as csvfile:\n",
    "    writer = csv.writer(csvfile)\n",
    "    for media in medias:\n",
    "        writer.writerow([media])"
   ]
  },
  {
   "cell_type": "code",
   "execution_count": 50,
   "metadata": {
    "collapsed": false
   },
   "outputs": [
    {
     "data": {
      "text/plain": [
       "[8504, 93929, 3343]"
      ]
     },
     "execution_count": 50,
     "metadata": {},
     "output_type": "execute_result"
    }
   ],
   "source": [
    "[casos_dengue[x] for x in numeros_aleatorios(3, 0, 20)]"
   ]
  }
 ],
 "metadata": {
  "kernelspec": {
   "display_name": "Python 2",
   "language": "python",
   "name": "python2"
  },
  "language_info": {
   "codemirror_mode": {
    "name": "ipython",
    "version": 2
   },
   "file_extension": ".py",
   "mimetype": "text/x-python",
   "name": "python",
   "nbconvert_exporter": "python",
   "pygments_lexer": "ipython2",
   "version": "2.7.12"
  }
 },
 "nbformat": 4,
 "nbformat_minor": 1
}
