{
 "cells": [
  {
   "cell_type": "code",
   "execution_count": 10,
   "metadata": {
    "collapsed": true
   },
   "outputs": [],
   "source": [
    "def media(amostra):\n",
    "    soma = 0\n",
    "    for x in amostra:\n",
    "        soma += x\n",
    "    return soma / len(amostra)\n",
    "\n",
    "casos_dengue = [3343,8191,6316,3709,6412,147,\n",
    "                1618,1053,21936,8504,5635,18058,\n",
    "                2377,1482,39075,43411,102071,\n",
    "                3396,24517,139357,93929]\n",
    "total = len(casos_dengue)"
   ]
  },
  {
   "cell_type": "code",
   "execution_count": 11,
   "metadata": {
    "collapsed": false
   },
   "outputs": [],
   "source": [
    "boostrap_samples = []\n",
    "\n",
    "for primeiro in range(total-2):\n",
    "    for segundo in range(primeiro + 1, total - 1):\n",
    "        for terceiro in range(segundo + 1, total):\n",
    "            boostrap_samples.append([casos_dengue[primeiro], casos_dengue[segundo], casos_dengue[terceiro]])\n"
   ]
  },
  {
   "cell_type": "code",
   "execution_count": 12,
   "metadata": {
    "collapsed": false
   },
   "outputs": [],
   "source": [
    "medias = []\n",
    "for sample in boostrap_samples:\n",
    "    medias.append(media(sample))\n",
    "    "
   ]
  },
  {
   "cell_type": "code",
   "execution_count": 19,
   "metadata": {
    "collapsed": false
   },
   "outputs": [],
   "source": [
    "import csv\n",
    "\n",
    "with open('boostrap_samples_medias.csv', 'w') as csvfile:\n",
    "    writer = csv.writer(csvfile)\n",
    "    for media in medias:\n",
    "        writer.writerow([media])"
   ]
  },
  {
   "cell_type": "code",
   "execution_count": null,
   "metadata": {
    "collapsed": true
   },
   "outputs": [],
   "source": []
  }
 ],
 "metadata": {
  "kernelspec": {
   "display_name": "Python 2",
   "language": "python",
   "name": "python2"
  },
  "language_info": {
   "codemirror_mode": {
    "name": "ipython",
    "version": 2
   },
   "file_extension": ".py",
   "mimetype": "text/x-python",
   "name": "python",
   "nbconvert_exporter": "python",
   "pygments_lexer": "ipython2",
   "version": "2.7.12"
  }
 },
 "nbformat": 4,
 "nbformat_minor": 1
}
