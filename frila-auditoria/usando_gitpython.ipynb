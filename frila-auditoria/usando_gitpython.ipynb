{
 "cells": [
  {
   "cell_type": "code",
   "execution_count": null,
   "metadata": {
    "collapsed": true
   },
   "outputs": [],
   "source": [
    "# SETUP\n",
    "import git\n",
    "dir = '/home/diego/projetos/gerenciador'\n",
    "repo = Repo(dir)\n",
    "\n",
    "# SABER TODAS BRANCHES\n",
    "repo.heads #isso é uma lista de git.Head\n",
    "repo.heads[0].name #quase tudo tem .name\n",
    "\n",
    "\n",
    "# CRIAR NOVA BRANCH\n",
    "nova_branch = repo.create_head(\"teste_gitpython\")\n",
    "# ... e dar checkout\n",
    "repo.head.reference = nova_branch\n",
    "\n",
    "\n",
    "# NAVEGAR PELA ARVORE DE ARQUIVOS\n",
    "tree = repo.heads.nova_branch.commit.tree #tree é uma lista de trees e blobs. trees são pastas e blobs, arquivos.\n",
    "# Pode navegar por trees assim:\n",
    "http_tree = tree/'app'/'Http' #essa é a pasta Http\n",
    "\n",
    "\n",
    "#LER COMMITS\n",
    "commits = list(repo.iter_commits(\"teste_gitpython\", max_count=5))\n",
    "commits[0].message # pegar o texto do commit\n",
    "#OU\n",
    "repo.commit(\"HEAD~2\") # pega o segundo commit para trás\n",
    "\n",
    "\n",
    "# RESGATAR DIFFS\n",
    "atual = repo.head.commit\n",
    "passado = repo.commit(\"HEAD~1\")\n",
    "difs = atual.diff(passado, create_patch=True) #difs é uma lista das difs"
   ]
  }
 ],
 "metadata": {
  "kernelspec": {
   "display_name": "Python 2",
   "language": "python",
   "name": "python2"
  },
  "language_info": {
   "codemirror_mode": {
    "name": "ipython",
    "version": 2
   },
   "file_extension": ".py",
   "mimetype": "text/x-python",
   "name": "python",
   "nbconvert_exporter": "python",
   "pygments_lexer": "ipython2",
   "version": "2.7.12"
  }
 },
 "nbformat": 4,
 "nbformat_minor": 1
}
