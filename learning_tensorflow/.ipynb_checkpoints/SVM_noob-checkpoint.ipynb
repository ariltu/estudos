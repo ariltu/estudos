{
 "cells": [
  {
   "cell_type": "code",
   "execution_count": 1,
   "metadata": {
    "collapsed": false
   },
   "outputs": [],
   "source": [
    "import tensorflow as tf\n",
    "\n",
    "X = tf.placeholder(tf.float64, [None,2])\n",
    "W = tf.Variable(tf.zeros([2,1], dtype=tf.float64))\n",
    "b = tf.Variable(tf.random_normal([1], stddev=0.25,dtype=tf.float64))\n",
    "# b = b.assign([0.1])\n",
    "init = tf.initialize_all_variables()\n",
    "\n",
    "Y = tf.matmul(X,W) + b\n",
    "\n",
    "Y_ = tf.placeholder(tf.float64, [None,1])\n",
    "\n",
    "\n",
    "distance = tf.sqrt( tf.reduce_sum(tf.square(tf.sub(Y, Y_)),reduction_indices=1))\n",
    "# distance = -tf.reduce_sum(Y_ * tf.log(Y))\n",
    "\n",
    "optimizer = tf.train.GradientDescentOptimizer(0.00001)\n",
    "train_step = optimizer.minimize(distance)\n",
    "\n",
    "sess = tf.Session()\n",
    "sess.run(init)\n",
    "\n",
    "x = [[1,1],\n",
    "     [-1,-1]]\n",
    "\n",
    "y_ = [[1],\n",
    "      [-1]]\n",
    "\n",
    "print sess.run(W),'    ',sess.run(b)\n",
    "for i in range(70000):\n",
    "    sess.run(train_step, feed_dict={X:x, Y_:y_})\n",
    "    if (i%10000==0):\n",
    "        print sess.run(W),'    ',sess.run(b)\n"
   ]
  },
  {
   "cell_type": "code",
   "execution_count": 184,
   "metadata": {
    "collapsed": false
   },
   "outputs": [
    {
     "name": "stdout",
     "output_type": "stream",
     "text": [
      "[[ 0.]\n",
      " [ 0.]]      [-0.01503806]\n",
      "[[ 0.   ]\n",
      " [ 0.004]]      [-0.01503806]\n",
      "[[ 0.        ]\n",
      " [ 0.40399999]]      [-0.01503806]\n",
      "[[ 0.        ]\n",
      " [ 0.80399998]]      [-0.01503806]\n",
      "[[ 0.        ]\n",
      " [ 0.98619998]]      [-0.19503805]\n",
      "[[ 0.        ]\n",
      " [ 1.14419997]]      [-0.39503805]\n",
      "[[ 0.        ]\n",
      " [ 1.30219997]]      [-0.59503805]\n",
      "[[ 0.        ]\n",
      " [ 1.46019997]]      [-0.79503804]\n",
      "[[ 0.        ]\n",
      " [ 1.61819996]]      [-0.99503804]\n",
      "[[ 0.        ]\n",
      " [ 1.80039996]]      [-1.17503803]\n",
      "[[ 0.        ]\n",
      " [ 1.95839996]]      [-1.37503803]\n",
      "[[ 0.        ]\n",
      " [ 2.11639995]]      [-1.57503802]\n",
      "[[ 0.        ]\n",
      " [ 2.27439995]]      [-1.77503802]\n",
      "[[ 0.        ]\n",
      " [ 2.43239995]]      [-1.97503801]\n",
      "[[ 0.        ]\n",
      " [ 2.59039994]]      [-2.17503801]\n",
      "[[ 0.        ]\n",
      " [ 2.77259994]]      [-2.35503801]\n",
      "[[ 0.        ]\n",
      " [ 2.93059993]]      [-2.555038]\n",
      "[[ 0.        ]\n",
      " [ 3.08859993]]      [-2.755038]\n",
      "[[ 0.        ]\n",
      " [ 3.24659993]]      [-2.95503799]\n",
      "[[ 0.        ]\n",
      " [ 3.40459992]]      [-3.15503799]\n",
      "[[ 0.        ]\n",
      " [ 3.56259992]]      [-3.35503798]\n",
      "[[ 0.        ]\n",
      " [ 3.74479992]]      [-3.53503798]\n",
      "[[ 0.        ]\n",
      " [ 3.90279991]]      [-3.73503798]\n",
      "[[ 0.        ]\n",
      " [ 4.06079991]]      [-3.93503797]\n",
      "[[ 0.        ]\n",
      " [ 4.21879991]]      [-4.13503797]\n",
      "[[ 0.       ]\n",
      " [ 4.3767999]]      [-4.33503796]\n",
      "[[ 0.       ]\n",
      " [ 4.5589999]]      [-4.51503796]\n",
      "[[ 0.        ]\n",
      " [ 4.71699989]]      [-4.71503795]\n",
      "[[ 0.        ]\n",
      " [ 4.87499989]]      [-4.91503795]\n",
      "[[ 0.        ]\n",
      " [ 4.92259989]]      [-4.95503795]\n",
      "[[ 0.        ]\n",
      " [ 4.92259989]]      [-4.95503795]\n",
      "[[ 0.        ]\n",
      " [ 4.92259989]]      [-4.95503795]\n",
      "[[ 0.        ]\n",
      " [ 4.92259989]]      [-4.95503795]\n",
      "[[ 0.        ]\n",
      " [ 4.92259989]]      [-4.95503795]\n",
      "[[ 0.        ]\n",
      " [ 4.92259989]]      [-4.95503795]\n",
      "[[ 0.        ]\n",
      " [ 4.92259989]]      [-4.95503795]\n",
      "[[ 0.        ]\n",
      " [ 4.92259989]]      [-4.95503795]\n",
      "[[ 0.        ]\n",
      " [ 4.92259989]]      [-4.95503795]\n",
      "[[ 0.        ]\n",
      " [ 4.92259989]]      [-4.95503795]\n",
      "[[ 0.        ]\n",
      " [ 4.92259989]]      [-4.95503795]\n",
      "[[ 0.        ]\n",
      " [ 4.92259989]]      [-4.95503795]\n",
      "[[ 0.        ]\n",
      " [ 4.92259989]]      [-4.95503795]\n",
      "[[ 0.        ]\n",
      " [ 4.92259989]]      [-4.95503795]\n",
      "[[ 0.        ]\n",
      " [ 4.92259989]]      [-4.95503795]\n",
      "[[ 0.        ]\n",
      " [ 4.92259989]]      [-4.95503795]\n",
      "[[ 0.        ]\n",
      " [ 4.92259989]]      [-4.95503795]\n",
      "[[ 0.        ]\n",
      " [ 4.92259989]]      [-4.95503795]\n",
      "[[ 0.        ]\n",
      " [ 4.92259989]]      [-4.95503795]\n",
      "[[ 0.        ]\n",
      " [ 4.92259989]]      [-4.95503795]\n",
      "[[ 0.        ]\n",
      " [ 4.92259989]]      [-4.95503795]\n",
      "[[ 0.        ]\n",
      " [ 4.92259989]]      [-4.95503795]\n",
      "[[ 0.        ]\n",
      " [ 4.92259989]]      [-4.95503795]\n",
      "[[ 0.        ]\n",
      " [ 4.92259989]]      [-4.95503795]\n",
      "[[ 0.        ]\n",
      " [ 4.92259989]]      [-4.95503795]\n",
      "[[ 0.        ]\n",
      " [ 4.92259989]]      [-4.95503795]\n",
      "[[ 0.        ]\n",
      " [ 4.92259989]]      [-4.95503795]\n",
      "[[ 0.        ]\n",
      " [ 4.92259989]]      [-4.95503795]\n",
      "[[ 0.        ]\n",
      " [ 4.92259989]]      [-4.95503795]\n",
      "[[ 0.        ]\n",
      " [ 4.92259989]]      [-4.95503795]\n",
      "[[ 0.        ]\n",
      " [ 4.92259989]]      [-4.95503795]\n",
      "[[ 0.        ]\n",
      " [ 4.92259989]]      [-4.95503795]\n",
      "[[ 0.        ]\n",
      " [ 4.92259989]]      [-4.95503795]\n",
      "[[ 0.        ]\n",
      " [ 4.92259989]]      [-4.95503795]\n",
      "[[ 0.        ]\n",
      " [ 4.92259989]]      [-4.95503795]\n",
      "[[ 0.        ]\n",
      " [ 4.92259989]]      [-4.95503795]\n",
      "[[ 0.        ]\n",
      " [ 4.92259989]]      [-4.95503795]\n",
      "[[ 0.        ]\n",
      " [ 4.92259989]]      [-4.95503795]\n",
      "[[ 0.        ]\n",
      " [ 4.92259989]]      [-4.95503795]\n",
      "[[ 0.        ]\n",
      " [ 4.92259989]]      [-4.95503795]\n",
      "[[ 0.        ]\n",
      " [ 4.92259989]]      [-4.95503795]\n",
      "[[ 0.        ]\n",
      " [ 4.92259989]]      [-4.95503795]\n",
      "[[ 0.        ]\n",
      " [ 4.92259989]]      [-4.95503795]\n",
      "[[ 0.        ]\n",
      " [ 4.92259989]]      [-4.95503795]\n",
      "[[ 0.        ]\n",
      " [ 4.92259989]]      [-4.95503795]\n",
      "[[ 0.        ]\n",
      " [ 4.92259989]]      [-4.95503795]\n",
      "[[ 0.        ]\n",
      " [ 4.92259989]]      [-4.95503795]\n",
      "[[ 0.        ]\n",
      " [ 4.92259989]]      [-4.95503795]\n",
      "[[ 0.        ]\n",
      " [ 4.92259989]]      [-4.95503795]\n",
      "[[ 0.        ]\n",
      " [ 4.92259989]]      [-4.95503795]\n",
      "[[ 0.        ]\n",
      " [ 4.92259989]]      [-4.95503795]\n",
      "[[ 0.        ]\n",
      " [ 4.92259989]]      [-4.95503795]\n",
      "[[ 0.        ]\n",
      " [ 4.92259989]]      [-4.95503795]\n",
      "[[ 0.        ]\n",
      " [ 4.92259989]]      [-4.95503795]\n",
      "[[ 0.        ]\n",
      " [ 4.92259989]]      [-4.95503795]\n",
      "[[ 0.        ]\n",
      " [ 4.92259989]]      [-4.95503795]\n",
      "[[ 0.        ]\n",
      " [ 4.92259989]]      [-4.95503795]\n",
      "[[ 0.        ]\n",
      " [ 4.92259989]]      [-4.95503795]\n",
      "[[ 0.        ]\n",
      " [ 4.92259989]]      [-4.95503795]\n",
      "[[ 0.        ]\n",
      " [ 4.92259989]]      [-4.95503795]\n",
      "[[ 0.        ]\n",
      " [ 4.92259989]]      [-4.95503795]\n",
      "[[ 0.        ]\n",
      " [ 4.92259989]]      [-4.95503795]\n",
      "[[ 0.        ]\n",
      " [ 4.92259989]]      [-4.95503795]\n",
      "[[ 0.        ]\n",
      " [ 4.92259989]]      [-4.95503795]\n",
      "[[ 0.        ]\n",
      " [ 4.92259989]]      [-4.95503795]\n",
      "[[ 0.        ]\n",
      " [ 4.92259989]]      [-4.95503795]\n",
      "[[ 0.        ]\n",
      " [ 4.92259989]]      [-4.95503795]\n",
      "[[ 0.        ]\n",
      " [ 4.92259989]]      [-4.95503795]\n",
      "[[ 0.        ]\n",
      " [ 4.92259989]]      [-4.95503795]\n",
      "[[ 0.        ]\n",
      " [ 4.92259989]]      [-4.95503795]\n",
      "[[ 0.        ]\n",
      " [ 4.92259989]]      [-4.95503795]\n",
      "[[ 0.        ]\n",
      " [ 4.92259989]]      [-4.95503795]\n"
     ]
    }
   ],
   "source": [
    "import tensorflow as tf\n",
    "\n",
    "X = tf.placeholder(tf.float64, [None,2])\n",
    "W = tf.Variable(tf.zeros([2,1], dtype=tf.float64))\n",
    "b = tf.Variable(tf.random_normal([1], stddev=0.25,dtype=tf.float64))\n",
    "# W = tf.constant([[-1.00006997],[ 0.60008998]], dtype=tf.float64)\n",
    "# b = tf.constant([-1.15], dtype=tf.float64)\n",
    "init = tf.initialize_all_variables()\n",
    "\n",
    "Y = tf.matmul(X**2,W) + b\n",
    "\n",
    "Y_ = tf.placeholder(tf.float64, [None,1])\n",
    "\n",
    "distance = tf.sqrt( tf.reduce_sum(tf.square(tf.sub(Y, Y_)),reduction_indices=1))\n",
    "\n",
    "optimizer = tf.train.GradientDescentOptimizer(0.01)\n",
    "train_step = optimizer.minimize(distance)\n",
    "\n",
    "sess = tf.Session()\n",
    "sess.run(init)\n",
    "\n",
    "x = [[0,1.1],[0,0.9]]\n",
    "\n",
    "y_ = [[1],\n",
    "      [-1]]\n",
    "\n",
    "print sess.run(W),'    ',sess.run(b)\n",
    "for i in range(10000):\n",
    "    sess.run(train_step, feed_dict={X:x, Y_:y_})\n",
    "    if (i%100==0):\n",
    "        print sess.run(W),'    ',sess.run(b)\n"
   ]
  },
  {
   "cell_type": "code",
   "execution_count": 143,
   "metadata": {
    "collapsed": false
   },
   "outputs": [
    {
     "data": {
      "image/png": "[encoded data removed]",
      "text/plain": [
       "<matplotlib.figure.Figure at 0x7ff3140c3a50>"
      ]
     },
     "metadata": {},
     "output_type": "display_data"
    }
   ],
   "source": [
    "import matplotlib.pyplot as plt\n",
    "import numpy as np\n",
    "x = [[-.5,2],[.5,2],[0,1.5],\n",
    "     [-1.5,2],[1.5,2],[0,.5]]\n",
    "plt.plot([z[0] for z in x],[z[1] for z in x],'bo')\n",
    "plt.plot([a for a in np.arange(-1,1.1,0.2)],[a**2+1 for a in np.arange(-1,1.1,0.2)])\n",
    "plt.plot([0,0],[1.1,0.9],'ro')\n",
    "plt.axis([-3, 3, 0, 3])\n",
    "plt.ylabel('some numbers')\n",
    "plt.show()"
   ]
  },
  {
   "cell_type": "code",
   "execution_count": 194,
   "metadata": {
    "collapsed": false
   },
   "outputs": [
    {
     "data": {
      "image/png": "[encoded data removed]",
      "text/plain": [
       "<matplotlib.figure.Figure at 0x7ff30fdca6d0>"
      ]
     },
     "metadata": {},
     "output_type": "display_data"
    }
   ],
   "source": [
    "'''\n",
    "==============\n",
    "3D scatterplot\n",
    "==============\n",
    "\n",
    "Demonstration of a basic scatterplot in 3D.\n",
    "'''\n",
    "\n",
    "from mpl_toolkits.mplot3d import Axes3D\n",
    "import matplotlib.pyplot as plt\n",
    "import numpy as np\n",
    "\n",
    "fig = plt.figure()\n",
    "ax = fig.add_subplot(111, projection='3d')\n",
    "\n",
    "xs = [a[0]**2 for a in x[:3]]\n",
    "ys = [a[1]**2 for a in x[:3]]\n",
    "ax.scatter(xs, ys, Z[:3], c='r', marker='o')\n",
    "\n",
    "xs = [a[0]**2 for a in x[3:]]\n",
    "ys = [a[1]**2 for a in x[3:]]\n",
    "ax.scatter(xs, ys, Z[3:], c='b', marker='^')\n",
    "\n",
    "ax.set_xlabel('X Label')\n",
    "ax.set_ylabel('Y Label')\n",
    "ax.set_zlabel('Z Label')\n",
    "\n",
    "xx, yy = np.meshgrid(range(-4,4), range(-4,4))\n",
    "z1 = (W[0]*xx + W[1]*yy - 1.15)\n",
    "# plt3d = plt.figure().gca(projection='3d')\n",
    "ax.plot_surface(xx,yy,z1, color='blue', alpha=0.1)\n",
    "\n",
    "\n",
    "plt.show()"
   ]
  },
  {
   "cell_type": "code",
   "execution_count": 191,
   "metadata": {
    "collapsed": false
   },
   "outputs": [],
   "source": [
    "x = [[-.5,2],[.5,2],[0,1.5],\n",
    "     [-1.5,2],[1.5,2],[0,.5]]\n",
    "Z =sess.run(Y, feed_dict={X:x})"
   ]
  },
  {
   "cell_type": "code",
   "execution_count": 187,
   "metadata": {
    "collapsed": false
   },
   "outputs": [],
   "source": [
    "W = sess.run(W)"
   ]
  },
  {
   "cell_type": "code",
   "execution_count": 189,
   "metadata": {
    "collapsed": false
   },
   "outputs": [],
   "source": [
    "b = sess.run(b)"
   ]
  },
  {
   "cell_type": "code",
   "execution_count": 192,
   "metadata": {
    "collapsed": false
   },
   "outputs": [
    {
     "data": {
      "text/plain": [
       "array([[ 14.63456161],\n",
       "       [ 14.63456161],\n",
       "       [  6.05536181],\n",
       "       [ 14.63456161],\n",
       "       [ 14.63456161],\n",
       "       [ -3.74943797]])"
      ]
     },
     "execution_count": 192,
     "metadata": {},
     "output_type": "execute_result"
    }
   ],
   "source": [
    "Z"
   ]
  },
  {
   "cell_type": "code",
   "execution_count": null,
   "metadata": {
    "collapsed": true
   },
   "outputs": [],
   "source": []
  }
 ],
 "metadata": {
  "kernelspec": {
   "display_name": "Python 2",
   "language": "python",
   "name": "python2"
  },
  "language_info": {
   "codemirror_mode": {
    "name": "ipython",
    "version": 2
   },
   "file_extension": ".py",
   "mimetype": "text/x-python",
   "name": "python",
   "nbconvert_exporter": "python",
   "pygments_lexer": "ipython2",
   "version": "2.7.12"
  }
 },
 "nbformat": 4,
 "nbformat_minor": 1
}
