{
 "cells": [
  {
   "cell_type": "code",
   "execution_count": 137,
   "metadata": {
    "collapsed": false
   },
   "outputs": [
    {
     "name": "stdout",
     "output_type": "stream",
     "text": [
      "['']\n"
     ]
    }
   ],
   "source": [
    "names = ['bart']\n",
    "seps = [', '] * (len(names)-2)\n",
    "seps.append(\" & \" if len(names) > 1 else '')\n",
    "seps = seps[::-1]\n",
    "print seps"
   ]
  },
  {
   "cell_type": "code",
   "execution_count": 140,
   "metadata": {
    "collapsed": false
   },
   "outputs": [
    {
     "name": "stdout",
     "output_type": "stream",
     "text": [
      "[]\n"
     ]
    }
   ],
   "source": [
    "string = ''\n",
    "print seps\n",
    "while seps:\n",
    "    string += names.pop()+seps.pop()\n",
    "    if names:\n",
    "        string += +names.pop()\n",
    "    seps.pop()"
   ]
  },
  {
   "cell_type": "code",
   "execution_count": null,
   "metadata": {
    "collapsed": true
   },
   "outputs": [],
   "source": []
  },
  {
   "cell_type": "code",
   "execution_count": 2,
   "metadata": {
    "collapsed": false
   },
   "outputs": [],
   "source": [
    "def unique_in_order(iterable):\n",
    "    past = None\n",
    "    r = []\n",
    "    for x in iterable:\n",
    "        if x != past:\n",
    "            r.append(x)\n",
    "        past = x\n",
    "    return r\n",
    "    "
   ]
  },
  {
   "cell_type": "code",
   "execution_count": 12,
   "metadata": {
    "collapsed": false
   },
   "outputs": [
    {
     "name": "stdout",
     "output_type": "stream",
     "text": [
      "A : A A\n",
      "B : B B\n",
      "C : C C\n",
      "D : D D\n"
     ]
    }
   ],
   "source": [
    "from itertools import groupby\n",
    "for x, _ in groupby('AABBCCDD'):\n",
    "    print x,':',\n",
    "    for a in _:\n",
    "        print a,\n",
    "    print"
   ]
  },
  {
   "cell_type": "code",
   "execution_count": 4,
   "metadata": {
    "collapsed": true
   },
   "outputs": [],
   "source": [
    "def iq_test(numbers):\n",
    "    numbers = [int(x) for x in numbers.split()]\n",
    "    evens = [x%2==0 for x in numbers[:3]]\n",
    "    ratio = sum(evens)/len(evens)\n",
    "    print ratio\n",
    "    if ratio > 0.5:\n",
    "        for i, x in enumerate(numbers):\n",
    "            if x%2!=0:\n",
    "                return i+1\n",
    "    else:\n",
    "        for i, x in enumerate(numbers):\n",
    "            if x%2==0:\n",
    "                return i+1"
   ]
  },
  {
   "cell_type": "code",
   "execution_count": 8,
   "metadata": {
    "collapsed": false
   },
   "outputs": [],
   "source": [
    "def iq_test(numbers):\n",
    "    e = [int(i) % 2 == 0 for i in numbers.split()]\n",
    "\n",
    "    return e.index(True) + 1 if e.count(True) == 1 else e.index(False) + 1"
   ]
  },
  {
   "cell_type": "code",
   "execution_count": 30,
   "metadata": {
    "collapsed": true
   },
   "outputs": [],
   "source": [
    "def digital_root(n):\n",
    "    sum = 0\n",
    "    while n>0:\n",
    "        sum += n%10;\n",
    "        n /= 10\n",
    "    return sum if sum < 10 else digital_root(sum)"
   ]
  },
  {
   "cell_type": "code",
   "execution_count": 32,
   "metadata": {
    "collapsed": false
   },
   "outputs": [],
   "source": [
    "def digitalroot(n):\n",
    "  return n%9 or n and 9 "
   ]
  }
 ],
 "metadata": {
  "kernelspec": {
   "display_name": "Python 2",
   "language": "python",
   "name": "python2"
  },
  "language_info": {
   "codemirror_mode": {
    "name": "ipython",
    "version": 2
   },
   "file_extension": ".py",
   "mimetype": "text/x-python",
   "name": "python",
   "nbconvert_exporter": "python",
   "pygments_lexer": "ipython2",
   "version": "2.7.12"
  }
 },
 "nbformat": 4,
 "nbformat_minor": 1
}
