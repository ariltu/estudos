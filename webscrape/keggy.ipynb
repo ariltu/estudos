{
 "cells": [
  {
   "cell_type": "code",
   "execution_count": 4,
   "metadata": {
    "collapsed": true
   },
   "outputs": [],
   "source": [
    "from imports import table\n",
    "from bs4 import BeautifulSoup as bs"
   ]
  },
  {
   "cell_type": "code",
   "execution_count": 5,
   "metadata": {
    "collapsed": true
   },
   "outputs": [],
   "source": [
    "soup = bs(table, \"html5lib\")"
   ]
  },
  {
   "cell_type": "code",
   "execution_count": 14,
   "metadata": {
    "collapsed": false
   },
   "outputs": [],
   "source": [
    "rows = soup.findAll(\"tr\")[1:]\n",
    "mags = []\n",
    "float(str(rows[1].findAll(\"td\")[2]).split(\" \")[1])\n",
    "for row in rows:\n",
    "    mags.append(  float(str(row.findAll(\"td\")[2]).split(\" \")[1])  )"
   ]
  },
  {
   "cell_type": "code",
   "execution_count": 19,
   "metadata": {
    "collapsed": false
   },
   "outputs": [
    {
     "name": "stdout",
     "output_type": "stream",
     "text": [
      "3.5 , 4.0 , 4.6 , 6.6 , 3.5 , 3.6 , 4.6 , 4.6 , 3.6 , 3.6 , 4.0 , 3.5 , 3.7 , 6.2 , 3.5 , 5.8 , 5.9 , 3.5 , 3.7 , 6.4 , 6.9 , 5.5 , 6.0 , 4.0 , 4.1 , 5.1 , 3.6 , 5.7 , 3.9 , 3.5 , 3.8 , 3.7 , 5.7 , 3.8 , 3.5 , 4.1 , 3.74 , 3.6 ,\n"
     ]
    }
   ],
   "source": [
    "for mag in mags:\n",
    "    print mag,',',"
   ]
  },
  {
   "cell_type": "code",
   "execution_count": 18,
   "metadata": {
    "collapsed": false
   },
   "outputs": [
    {
     "data": {
      "text/plain": [
       "38"
      ]
     },
     "execution_count": 18,
     "metadata": {},
     "output_type": "execute_result"
    }
   ],
   "source": [
    "len(mags)"
   ]
  },
  {
   "cell_type": "code",
   "execution_count": null,
   "metadata": {
    "collapsed": true
   },
   "outputs": [],
   "source": []
  }
 ],
 "metadata": {
  "kernelspec": {
   "display_name": "Python 2",
   "language": "python",
   "name": "python2"
  },
  "language_info": {
   "codemirror_mode": {
    "name": "ipython",
    "version": 2
   },
   "file_extension": ".py",
   "mimetype": "text/x-python",
   "name": "python",
   "nbconvert_exporter": "python",
   "pygments_lexer": "ipython2",
   "version": "2.7.12"
  }
 },
 "nbformat": 4,
 "nbformat_minor": 1
}
