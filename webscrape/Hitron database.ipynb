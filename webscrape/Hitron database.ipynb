{
 "cells": [
  {
   "cell_type": "code",
   "execution_count": 1,
   "metadata": {
    "collapsed": true
   },
   "outputs": [],
   "source": [
    "import sqlite3"
   ]
  },
  {
   "cell_type": "code",
   "execution_count": 2,
   "metadata": {
    "collapsed": true
   },
   "outputs": [],
   "source": [
    "conn = sqlite3.connect('/home/diego/hitron.db')\n",
    "cursor = conn.cursor()"
   ]
  },
  {
   "cell_type": "code",
   "execution_count": 4,
   "metadata": {
    "collapsed": false
   },
   "outputs": [
    {
     "data": {
      "text/plain": [
       "[]"
      ]
     },
     "execution_count": 4,
     "metadata": {},
     "output_type": "execute_result"
    }
   ],
   "source": [
    "sql = \"\"\"\n",
    "INSERT INTO dispositivos (nome, mac, acesso_permitido)\n",
    "VALUES (?,?,?)\n",
    "\"\"\"\n",
    "cursor.execute(sql, (\"danicel\",\"44:80:eb:bc:8f:07\",\"FALSE\"))\n",
    "r = [x for x in cursor.fetchall()]\n",
    "r"
   ]
  },
  {
   "cell_type": "code",
   "execution_count": 5,
   "metadata": {
    "collapsed": false
   },
   "outputs": [
    {
     "data": {
      "text/plain": [
       "[(1, u'danicel', u'44:80:eb:bc:8f:07', u'FALSE')]"
      ]
     },
     "execution_count": 5,
     "metadata": {},
     "output_type": "execute_result"
    }
   ],
   "source": [
    "sql = \"\"\"\n",
    "SELECT * FROM dispositivos\n",
    "\"\"\"\n",
    "cursor.execute(sql)\n",
    "r = [x for x in cursor.fetchall()]\n",
    "r"
   ]
  },
  {
   "cell_type": "code",
   "execution_count": 3,
   "metadata": {
    "collapsed": false
   },
   "outputs": [
    {
     "data": {
      "text/plain": [
       "[]"
      ]
     },
     "execution_count": 3,
     "metadata": {},
     "output_type": "execute_result"
    }
   ],
   "source": [
    "sql = \"\"\"\n",
    "SELECT nome, mac FROM dispositivos\n",
    "\"\"\"\n",
    "cursor.execute(sql)\n",
    "r = [x for x in cursor.fetchall()]\n",
    "r"
   ]
  },
  {
   "cell_type": "code",
   "execution_count": 31,
   "metadata": {
    "collapsed": false
   },
   "outputs": [],
   "source": [
    "payload = {}\n",
    "for i, linha in enumerate(r):\n",
    "    payload[\"mac%d\"%i] = \"%s,%s\" % (linha[0],linha[1])"
   ]
  },
  {
   "cell_type": "code",
   "execution_count": 32,
   "metadata": {
    "collapsed": false
   },
   "outputs": [
    {
     "data": {
      "text/plain": [
       "{'mac0': u'diegopc,e0:06:e6:fd:22:2b',\n",
       " 'mac1': u'diegocel,40:78:6a:9a:bb:69',\n",
       " 'mac2': u'paicel,f8:cf:c5:9c:08:74',\n",
       " 'mac3': u'pcquarto,90:2b:34:f0:33:a5',\n",
       " 'mac4': u'maetablet,78:a8:73:90:26:fa',\n",
       " 'mac5': u'danicel,44:80:eb:bc:8f:07'}"
      ]
     },
     "execution_count": 32,
     "metadata": {},
     "output_type": "execute_result"
    }
   ],
   "source": [
    "payload"
   ]
  },
  {
   "cell_type": "code",
   "execution_count": 6,
   "metadata": {
    "collapsed": true
   },
   "outputs": [],
   "source": [
    "conn.close()"
   ]
  },
  {
   "cell_type": "code",
   "execution_count": null,
   "metadata": {
    "collapsed": true
   },
   "outputs": [],
   "source": []
  }
 ],
 "metadata": {
  "kernelspec": {
   "display_name": "Python 2",
   "language": "python",
   "name": "python2"
  },
  "language_info": {
   "codemirror_mode": {
    "name": "ipython",
    "version": 2
   },
   "file_extension": ".py",
   "mimetype": "text/x-python",
   "name": "python",
   "nbconvert_exporter": "python",
   "pygments_lexer": "ipython2",
   "version": "2.7.12"
  }
 },
 "nbformat": 4,
 "nbformat_minor": 1
}
