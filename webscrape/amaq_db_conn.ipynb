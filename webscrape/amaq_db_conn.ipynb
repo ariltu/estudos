{
 "cells": [
  {
   "cell_type": "code",
   "execution_count": 2,
   "metadata": {
    "collapsed": true
   },
   "outputs": [],
   "source": [
    "import psycopg2"
   ]
  },
  {
   "cell_type": "code",
   "execution_count": 3,
   "metadata": {
    "collapsed": true
   },
   "outputs": [],
   "source": [
    "try:\n",
    "    conn = psycopg2.connect(\"dbname='postgres' user='postgres' host='localhost' password='asdasd'\")\n",
    "except:\n",
    "    print \"NUM DEU PRA CONECTAR\"\n",
    "\n",
    "cur = conn.cursor()"
   ]
  },
  {
   "cell_type": "code",
   "execution_count": 21,
   "metadata": {
    "collapsed": false
   },
   "outputs": [
    {
     "name": "stdout",
     "output_type": "stream",
     "text": [
      "Existem 3911 gestores e 21920 nao-gestores\n"
     ]
    }
   ],
   "source": [
    "cur.execute('SELECT grupo_id from autenticacao_perfil')\n",
    "perfis = cur.fetchall()\n",
    "\n",
    "contador = [0,0]\n",
    "\n",
    "for perfil in perfis:\n",
    "    if perfil[0] == 8:\n",
    "        contador[0] += 1\n",
    "    else:\n",
    "        contador[1] += 1\n",
    "print 'Existem %d gestores e %d nao-gestores' % (contador[0], contador[1])"
   ]
  },
  {
   "cell_type": "code",
   "execution_count": 4,
   "metadata": {
    "collapsed": false
   },
   "outputs": [],
   "source": [
    "cur.execute('SELECT ine from common_equipesaude')\n",
    "ines = cur.fetchall()\n",
    "k_ine = []\n",
    "indexes = []\n",
    "for index, ine in enumerate(ines[:20]):\n",
    "    if ine[0] not in k_ine:\n",
    "        k_ine.append(ine[0])\n",
    "        indexes.append([index + 1])\n",
    "    else:\n",
    "        indexes[k_ine.index(ine[0])].append(index + 1)"
   ]
  },
  {
   "cell_type": "code",
   "execution_count": 6,
   "metadata": {
    "collapsed": false
   },
   "outputs": [
    {
     "data": {
      "text/plain": [
       "[('0000328081',),\n",
       " ('0000006017',),\n",
       " ('0000171662',),\n",
       " ('0000410721',),\n",
       " ('0000409170',),\n",
       " ('0000450421',),\n",
       " ('0000450421',),\n",
       " ('0000450421',),\n",
       " ('0000074489',),\n",
       " ('0000074489',),\n",
       " ('0000074489',),\n",
       " ('0000074489',),\n",
       " ('0000110566',),\n",
       " ('0000298476',),\n",
       " ('0000298476',),\n",
       " ('0000071064',),\n",
       " ('0000071064',),\n",
       " ('0000273732',),\n",
       " ('0000273732',),\n",
       " ('0000176249',)]"
      ]
     },
     "execution_count": 6,
     "metadata": {},
     "output_type": "execute_result"
    }
   ],
   "source": [
    "ines[:20]"
   ]
  },
  {
   "cell_type": "code",
   "execution_count": null,
   "metadata": {
    "collapsed": true
   },
   "outputs": [],
   "source": []
  }
 ],
 "metadata": {
  "kernelspec": {
   "display_name": "Python 2",
   "language": "python",
   "name": "python2"
  },
  "language_info": {
   "codemirror_mode": {
    "name": "ipython",
    "version": 2
   },
   "file_extension": ".py",
   "mimetype": "text/x-python",
   "name": "python",
   "nbconvert_exporter": "python",
   "pygments_lexer": "ipython2",
   "version": "2.7.12"
  }
 },
 "nbformat": 4,
 "nbformat_minor": 1
}
