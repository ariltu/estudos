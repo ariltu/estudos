{
 "cells": [
  {
   "cell_type": "code",
   "execution_count": 1,
   "metadata": {
    "collapsed": true
   },
   "outputs": [],
   "source": [
    "import psycopg2"
   ]
  },
  {
   "cell_type": "code",
   "execution_count": 2,
   "metadata": {
    "collapsed": true
   },
   "outputs": [],
   "source": [
    "try:\n",
    "    conn = psycopg2.connect(\"dbname='postgres' user='postgres' host='localhost' password='asdasd'\")\n",
    "except:\n",
    "    print \"NUM DEU PRA CONECTAR\"\n",
    "\n",
    "cur = conn.cursor()"
   ]
  },
  {
   "cell_type": "code",
   "execution_count": 3,
   "metadata": {
    "collapsed": false
   },
   "outputs": [
    {
     "name": "stdout",
     "output_type": "stream",
     "text": [
      "Existem 3911 gestores e 21920 nao-gestores\n"
     ]
    }
   ],
   "source": [
    "cur.execute('SELECT grupo_id from autenticacao_perfil')\n",
    "perfis = cur.fetchall()\n",
    "\n",
    "contador = [0,0]\n",
    "\n",
    "for perfil in perfis:\n",
    "    if perfil[0] == 8:\n",
    "        contador[0] += 1\n",
    "    else:\n",
    "        contador[1] += 1\n",
    "print 'Existem %d gestores e %d nao-gestores' % (contador[0], contador[1])"
   ]
  },
  {
   "cell_type": "code",
   "execution_count": 18,
   "metadata": {
    "collapsed": false
   },
   "outputs": [
    {
     "name": "stdout",
     "output_type": "stream",
     "text": [
      "Existem 7766 ines que aparecem mais de uma vez, e somente 7163 nao se repetem\n",
      "As maiores repetições são 267, 20 e 16\n"
     ]
    }
   ],
   "source": [
    "cur.execute(\"SELECT ine from common_equipesaude ORDER BY id ASC\")\n",
    "ines = cur.fetchall()\n",
    "\n",
    "k_ine = []\n",
    "ocorrencias = []\n",
    "for index, ine in enumerate(ines):\n",
    "    if ine[0] not in k_ine:\n",
    "        k_ine.append(ine[0])\n",
    "        ocorrencias.append([index+1])\n",
    "    else:\n",
    "        ocorrencias[k_ine.index(ine[0])].append(index+1)\n",
    "\n",
    "contador_repetidos = 0\n",
    "mais_repetidos = [0,0,0]\n",
    "for i in range(len(k_ine)):\n",
    "    mylen = len(ocorrencias[i])\n",
    "    if mylen > 1:\n",
    "        contador_repetidos += 1\n",
    "    if mylen > mais_repetidos[0]:\n",
    "        mais_repetidos[0] = mylen\n",
    "        mais_repetidos.sort()\n",
    "\n",
    "print 'Existem %d ines que aparecem mais de uma vez, e somente %d nao se repetem' \\\n",
    "        % (contador_repetidos, len(k_ine) - contador_repetidos)\n",
    "print 'As maiores repetições são %d, %d e %d' % (mais_repetidos[2],mais_repetidos[1],mais_repetidos[0])"
   ]
  },
  {
   "cell_type": "code",
   "execution_count": null,
   "metadata": {
    "collapsed": true
   },
   "outputs": [],
   "source": []
  }
 ],
 "metadata": {
  "kernelspec": {
   "display_name": "Python 2",
   "language": "python",
   "name": "python2"
  },
  "language_info": {
   "codemirror_mode": {
    "name": "ipython",
    "version": 2
   },
   "file_extension": ".py",
   "mimetype": "text/x-python",
   "name": "python",
   "nbconvert_exporter": "python",
   "pygments_lexer": "ipython2",
   "version": "2.7.11"
  }
 },
 "nbformat": 4,
 "nbformat_minor": 1
}
