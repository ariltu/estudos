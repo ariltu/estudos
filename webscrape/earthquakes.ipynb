{
 "cells": [
  {
   "cell_type": "markdown",
   "metadata": {},
   "source": [
    "# IMPORTS"
   ]
  },
  {
   "cell_type": "code",
   "execution_count": 58,
   "metadata": {
    "collapsed": false
   },
   "outputs": [],
   "source": [
    "%matplotlib inline\n",
    "import matplotlib.pyplot as plt\n",
    "from urllib2 import urlopen\n",
    "from bs4 import BeautifulSoup as bs\n",
    "from datetime import datetime"
   ]
  },
  {
   "cell_type": "markdown",
   "metadata": {},
   "source": [
    "# FUNÇÕES"
   ]
  },
  {
   "cell_type": "markdown",
   "metadata": {},
   "source": [
    "Aqui são as funções pra transformar o texto extraído das páginas em objetos utilizáveis (datetime, float, etc)"
   ]
  },
  {
   "cell_type": "code",
   "execution_count": 5,
   "metadata": {
    "collapsed": true
   },
   "outputs": [],
   "source": [
    "def coordenadas (localizacao):\n",
    "    mystring = localizacao.split(',')\n",
    "    pos_latitude = mystring[0].split(' ')\n",
    "    pos_longitude = mystring[1].split(' ')\n",
    "    \n",
    "    if pos_latitude[1] == 'N':\n",
    "        latitude = float(pos_latitude[0])\n",
    "    else:\n",
    "        latitude = float(pos_latitude[0]) * -1\n",
    "        \n",
    "    if pos_longitude[1] == 'W':\n",
    "        longitude = float(pos_latitude[0])\n",
    "    else:\n",
    "        longitude = float(pos_latitude[0]) * -1\n",
    "        \n",
    "    return latitude, longitude\n",
    "\n",
    "def magicbox(magic_input):\n",
    "    data_hora = datetime.strptime(magic_input[0], '%Y-%m-%d %H:%M:%S')\n",
    "    magnitude = float(magic_input[1])\n",
    "    latitude, longitude = coordenadas(magic_input[2])\n",
    "    profundidade = float(magic_input[3].split(' ')[0])\n",
    "    \n",
    "    magic_output = [data_hora,magnitude,latitude,longitude,profundidade]\n",
    "    return magic_output"
   ]
  },
  {
   "cell_type": "markdown",
   "metadata": {},
   "source": [
    "# SET UP"
   ]
  },
  {
   "cell_type": "markdown",
   "metadata": {},
   "source": [
    "Aqui, a gente abre a página (a variável site), e depois jogamos ela no interpretador (a variável soup)."
   ]
  },
  {
   "cell_type": "markdown",
   "metadata": {},
   "source": [
    "Na página aberta, existem uma tag html \"option\" para cada terremoto, então é ele que nois vai buscar."
   ]
  },
  {
   "cell_type": "code",
   "execution_count": 7,
   "metadata": {
    "collapsed": false
   },
   "outputs": [
    {
     "name": "stdout",
     "output_type": "stream",
     "text": [
      "Existem  73  terremotos registrados em rev.seis.sc.edu\n"
     ]
    }
   ],
   "source": [
    "site = \"http://rev.seis.sc.edu/earthquakes.html\"\n",
    "base_url = \"http://rev.seis.sc.edu/earthquakes/?eq_url=\"\n",
    "page = urlopen(site)\n",
    "\n",
    "soup = bs(page, \"html5lib\")\n",
    "options = soup.findAll(\"option\")\n",
    "print \"Existem \",len(options),\" terremotos registrados em rev.seis.sc.edu\""
   ]
  },
  {
   "cell_type": "markdown",
   "metadata": {},
   "source": [
    "# COLETA DE DADOS"
   ]
  },
  {
   "cell_type": "code",
   "execution_count": 76,
   "metadata": {
    "collapsed": false
   },
   "outputs": [],
   "source": [
    "earthquakes = []\n",
    "for option in options:\n",
    "    myurl = base_url + option['value']\n",
    "    soup = bs(urlopen(myurl))\n",
    "    titems = soup.findAll('a', {'class': 'definition'})\n",
    "    mylist = []\n",
    "    for i in range (1,5):\n",
    "        mylist.append(titems[i].parent.findNext().findNext().find(text=True))\n",
    "    earthquakes.append(magicbox(mylist))"
   ]
  },
  {
   "cell_type": "markdown",
   "metadata": {},
   "source": [
    "# CÁLCULOS"
   ]
  },
  {
   "cell_type": "code",
   "execution_count": 65,
   "metadata": {
    "collapsed": false
   },
   "outputs": [],
   "source": [
    "datas = []\n",
    "ocorrencias = []\n",
    "for quake in earthquakes:\n",
    "    data = quake[0].date()\n",
    "    if not data in datas:\n",
    "        datas.append(data)\n",
    "        ocorrencias.append(1)\n",
    "    else:\n",
    "        index = datas.index(data)\n",
    "        ocorrencias[index] += 1"
   ]
  },
  {
   "cell_type": "markdown",
   "metadata": {},
   "source": [
    "QUANTIDADE DE TERREMOTOS POR DIA"
   ]
  },
  {
   "cell_type": "code",
   "execution_count": 66,
   "metadata": {
    "collapsed": false
   },
   "outputs": [
    {
     "name": "stdout",
     "output_type": "stream",
     "text": [
      "   data     qtd\n",
      "2016-10-20   6\n",
      "2016-10-19   3\n",
      "2016-10-18   4\n",
      "2016-10-17   3\n",
      "2016-10-15   2\n",
      "2016-10-14   1\n",
      "2016-10-13   3\n",
      "2016-10-12   2\n",
      "2016-10-10   3\n",
      "2016-10-09   4\n",
      "2016-10-08   3\n",
      "2016-10-07   1\n",
      "2016-09-01   1\n",
      "2016-08-29   1\n",
      "2016-08-19   1\n",
      "2016-08-12   1\n",
      "2016-07-29   1\n",
      "2016-05-28   1\n",
      "2016-04-28   1\n",
      "2016-04-16   1\n",
      "2016-04-15   1\n",
      "2016-03-02   1\n",
      "2016-01-30   1\n",
      "2016-01-24   1\n",
      "2015-12-07   1\n",
      "2015-12-04   1\n",
      "2015-11-24   1\n",
      "2015-11-13   1\n",
      "2015-10-26   1\n",
      "2015-05-30   1\n",
      "2015-04-25   1\n",
      "2014-08-24   1\n",
      "2014-06-23   1\n",
      "2014-04-12   1\n",
      "2014-04-01   1\n",
      "2013-05-24   1\n",
      "2011-08-23   1\n",
      "2011-03-11   1\n",
      "2010-02-27   1\n",
      "2010-01-12   1\n",
      "2007-04-25   2\n",
      "2007-03-25   1\n",
      "2007-01-13   1\n",
      "2006-07-17   1\n",
      "2004-12-26   1\n",
      "2004-09-28   1\n",
      "2002-11-03   1\n",
      "1994-01-17   1\n",
      "1989-10-18   1\n"
     ]
    }
   ],
   "source": [
    "print '%7s %7s' % ('data','qtd')\n",
    "for i in range(0,len(datas)):\n",
    "    print '%s %3s' % (datas[i], ocorrencias[i])"
   ]
  },
  {
   "cell_type": "markdown",
   "metadata": {},
   "source": [
    "MEDIA ARITMETICA DE TERREMOTOS POR DIA"
   ]
  },
  {
   "cell_type": "code",
   "execution_count": 74,
   "metadata": {
    "collapsed": false
   },
   "outputs": [
    {
     "name": "stdout",
     "output_type": "stream",
     "text": [
      "media:  1.48979591837\n"
     ]
    }
   ],
   "source": [
    "print 'media: ',sum(ocorrencias)/float(len(ocorrencias))"
   ]
  },
  {
   "cell_type": "markdown",
   "metadata": {},
   "source": [
    "MODA obviamente é 1 e mediana é 1 tambem"
   ]
  },
  {
   "cell_type": "markdown",
   "metadata": {},
   "source": [
    "MEDIA ARITMETICA DAS MAGNITUDES"
   ]
  },
  {
   "cell_type": "code",
   "execution_count": 75,
   "metadata": {
    "collapsed": false
   },
   "outputs": [
    {
     "name": "stdout",
     "output_type": "stream",
     "text": [
      "a media das magnitudes é  5.94863013699\n"
     ]
    }
   ],
   "source": [
    "magnitudes = [quake[1] for quake in earthquakes]\n",
    "media_mag = sum(magnitudes)/float(len(magnitudes))\n",
    "print 'a media das magnitudes é ',media_mag"
   ]
  },
  {
   "cell_type": "code",
   "execution_count": null,
   "metadata": {
    "collapsed": true
   },
   "outputs": [],
   "source": []
  }
 ],
 "metadata": {
  "kernelspec": {
   "display_name": "Python 2",
   "language": "python",
   "name": "python2"
  },
  "language_info": {
   "codemirror_mode": {
    "name": "ipython",
    "version": 2
   },
   "file_extension": ".py",
   "mimetype": "text/x-python",
   "name": "python",
   "nbconvert_exporter": "python",
   "pygments_lexer": "ipython2",
   "version": "2.7.12"
  }
 },
 "nbformat": 4,
 "nbformat_minor": 0
}
