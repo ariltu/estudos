{
 "cells": [
  {
   "cell_type": "markdown",
   "metadata": {},
   "source": [
    "IMPORTS"
   ]
  },
  {
   "cell_type": "code",
   "execution_count": 58,
   "metadata": {
    "collapsed": false
   },
   "outputs": [],
   "source": [
    "%matplotlib inline\n",
    "import matplotlib.pyplot as plt\n",
    "from urllib2 import urlopen\n",
    "from bs4 import BeautifulSoup as bs\n",
    "from datetime import datetime"
   ]
  },
  {
   "cell_type": "markdown",
   "metadata": {},
   "source": [
    "FUNÇÕES"
   ]
  },
  {
   "cell_type": "code",
   "execution_count": 5,
   "metadata": {
    "collapsed": true
   },
   "outputs": [],
   "source": [
    "def coordenadas (localizacao):\n",
    "    mystring = localizacao.split(',')\n",
    "    pos_latitude = mystring[0].split(' ')\n",
    "    pos_longitude = mystring[1].split(' ')\n",
    "    \n",
    "    if pos_latitude[1] == 'N':\n",
    "        latitude = float(pos_latitude[0])\n",
    "    else:\n",
    "        latitude = float(pos_latitude[0]) * -1\n",
    "        \n",
    "    if pos_longitude[1] == 'W':\n",
    "        longitude = float(pos_latitude[0])\n",
    "    else:\n",
    "        longitude = float(pos_latitude[0]) * -1\n",
    "        \n",
    "    return latitude, longitude\n",
    "\n",
    "def magicbox(magic_input):\n",
    "    data_hora = datetime.strptime(magic_input[0], '%Y-%m-%d %H:%M:%S')\n",
    "    magnitude = float(magic_input[1])\n",
    "    latitude, longitude = coordenadas(magic_input[2])\n",
    "    profundidade = float(magic_input[3].split(' ')[0])\n",
    "    \n",
    "    magic_output = [data_hora,magnitude,latitude,longitude,profundidade]\n",
    "    return magic_output"
   ]
  },
  {
   "cell_type": "markdown",
   "metadata": {},
   "source": [
    "SET UP"
   ]
  },
  {
   "cell_type": "code",
   "execution_count": 7,
   "metadata": {
    "collapsed": false
   },
   "outputs": [
    {
     "name": "stdout",
     "output_type": "stream",
     "text": [
      "Existem  73  terremotos registrados em rev.seis.sc.edu\n"
     ]
    }
   ],
   "source": [
    "site = \"http://rev.seis.sc.edu/earthquakes.html\"\n",
    "base_url = \"http://rev.seis.sc.edu/earthquakes/?eq_url=\"\n",
    "page = urlopen(site)\n",
    "\n",
    "soup = bs(page, \"html5lib\")\n",
    "options = soup.findAll(\"option\")\n",
    "print \"Existem \",len(options),\" terremotos registrados em rev.seis.sc.edu\""
   ]
  },
  {
   "cell_type": "markdown",
   "metadata": {},
   "source": [
    "GATHER"
   ]
  },
  {
   "cell_type": "code",
   "execution_count": 45,
   "metadata": {
    "collapsed": true
   },
   "outputs": [
    {
     "name": "stdout",
     "output_type": "stream",
     "text": [
      "Novo:  [datetime.datetime(2016, 10, 20, 19, 8, 9), 3.6, 59.8, -59.8, 87.0]\n",
      "Novo:  [datetime.datetime(2016, 10, 20, 15, 21, 16), 4.6, 17.6, -17.6, 139.0]\n",
      "Novo:  [datetime.datetime(2016, 10, 20, 15, 13, 14), 4.6, 14.7, -14.7, 105.0]\n",
      "Novo:  [datetime.datetime(2016, 10, 20, 13, 28, 1), 3.6, 35.2, -35.2, 5.0]\n",
      "Novo:  [datetime.datetime(2016, 10, 20, 12, 14, 8), 3.6, 36.9, -36.9, 3.9]\n",
      "Novo:  [datetime.datetime(2016, 10, 20, 7, 59, 30), 4.0, 54.3, -54.3, 29.0]\n",
      "Novo:  [datetime.datetime(2016, 10, 19, 22, 33, 35), 3.5, 36.8, -36.8, 1.2]\n",
      "Novo:  [datetime.datetime(2016, 10, 19, 11, 40, 50), 3.7, 57.0, -57.0, 65.0]\n",
      "Novo:  [datetime.datetime(2016, 10, 19, 0, 26, 1), 6.2, -4.9, -4.9, 623.0]\n",
      "Novo:  [datetime.datetime(2016, 10, 18, 23, 9, 52), 3.5, 18.0, -18.0, 87.0]\n",
      "Novo:  [datetime.datetime(2016, 10, 18, 22, 8, 14), 5.8, 15.2, -15.2, 148.0]\n",
      "Novo:  [datetime.datetime(2016, 10, 18, 16, 36, 42), 5.9, -23.3, -23.3, 548.0]\n",
      "Novo:  [datetime.datetime(2016, 10, 18, 8, 53, 30), 3.5, 61.0, -61.0, 16.0]\n",
      "Novo:  [datetime.datetime(2016, 10, 17, 8, 50, 48), 3.7, 59.9, -59.9, 94.0]\n",
      "Novo:  [datetime.datetime(2016, 10, 17, 7, 14, 50), 6.4, 32.9, -32.9, 32.0]\n",
      "Novo:  [datetime.datetime(2016, 10, 17, 6, 14, 58), 6.9, -6.1, -6.1, 35.0]\n",
      "Novo:  [datetime.datetime(2016, 10, 15, 20, 14, 49), 5.5, 39.8, -39.8, 21.0]\n",
      "Novo:  [datetime.datetime(2016, 10, 15, 8, 3, 38), 6.0, -4.3, -4.3, 451.0]\n",
      "Novo:  [datetime.datetime(2016, 10, 14, 12, 59, 4), 4.0, 59.8, -59.8, 69.0]\n",
      "Novo:  [datetime.datetime(2016, 10, 13, 21, 13, 3), 4.1, 62.8, -62.8, 10.0]\n",
      "Novo:  [datetime.datetime(2016, 10, 13, 3, 55, 13), 5.1, 25.5, -25.5, 20.0]\n",
      "Novo:  [datetime.datetime(2016, 10, 13, 2, 48, 41), 3.6, 36.8, -36.8, 8.9]\n",
      "Novo:  [datetime.datetime(2016, 10, 12, 3, 21, 26), 5.7, -5.4, -5.4, 22.0]\n",
      "Novo:  [datetime.datetime(2016, 10, 12, 2, 57, 45), 3.9, 65.7, -65.7, 15.0]\n",
      "Novo:  [datetime.datetime(2016, 10, 10, 20, 27, 55), 3.5, 36.4, -36.4, 5.0]\n",
      "Novo:  [datetime.datetime(2016, 10, 10, 5, 24, 29), 3.8, 60.2, -60.2, 184.0]\n",
      "Novo:  [datetime.datetime(2016, 10, 10, 0, 5, 45), 3.7, 59.1, -59.1, 52.0]\n",
      "Novo:  [datetime.datetime(2016, 10, 9, 14, 46, 27), 5.7, 1.8, -1.8, 137.0]\n",
      "Novo:  [datetime.datetime(2016, 10, 9, 12, 23, 5), 3.8, 36.4, -36.4, 5.1]\n",
      "Novo:  [datetime.datetime(2016, 10, 9, 3, 5, 2), 3.5, 65.8, -65.8, 15.0]\n",
      "Novo:  [datetime.datetime(2016, 10, 9, 2, 28, 48), 4.1, 64.7, -64.7, 11.0]\n",
      "Novo:  [datetime.datetime(2016, 10, 8, 22, 43, 49), 3.74, 34.0, -34.0, 14.0]\n",
      "Novo:  [datetime.datetime(2016, 10, 8, 22, 40, 12), 3.6, 62.3, -62.3, 2.4]\n",
      "Novo:  [datetime.datetime(2016, 10, 8, 4, 29, 46), 4.9, 20.3, -20.3, 14.0]\n",
      "Novo:  [datetime.datetime(2016, 10, 7, 3, 15, 29), 4.3, 11.6, -11.6, 45.0]\n",
      "Novo:  [datetime.datetime(2016, 9, 1, 16, 37, 57), 7.2, -37.5, -37.5, 159.0]\n",
      "Novo:  [datetime.datetime(2016, 8, 29, 4, 29, 57), 7.1, -0.0, -0.0, 10.0]\n",
      "Novo:  [datetime.datetime(2016, 8, 19, 7, 32, 22), 7.4, -55.3, -55.3, 10.0]\n",
      "Novo:  [datetime.datetime(2016, 8, 12, 1, 26, 36), 7.6, -22.5, -22.5, 16.0]\n",
      "Novo:  [datetime.datetime(2016, 7, 29, 21, 18, 24), 7.7, 18.5, -18.5, 188.0]\n",
      "Novo:  [datetime.datetime(2016, 5, 28, 9, 47, 1), 7.3, -56.3, -56.3, 93.0]\n",
      "Novo:  [datetime.datetime(2016, 4, 28, 19, 33, 24), 7.0, -16.1, -16.1, 27.0]\n",
      "Novo:  [datetime.datetime(2016, 4, 16, 23, 58, 37), 7.8, 0.4, -0.4, 19.0]\n",
      "Novo:  [datetime.datetime(2016, 4, 15, 16, 25, 6), 7.0, 32.8, -32.8, 10.0]\n",
      "Novo:  [datetime.datetime(2016, 3, 2, 12, 49, 48), 7.8, -4.9, -4.9, 24.0]\n",
      "Novo:  [datetime.datetime(2016, 1, 30, 3, 25), 7.0, 54.0, -54.0, 153.0]\n",
      "Novo:  [datetime.datetime(2016, 1, 24, 10, 30, 30), 7.1, 59.7, -59.7, 128.0]\n",
      "Novo:  [datetime.datetime(2015, 12, 7, 7, 50, 7), 7.2, 38.3, -38.3, 29.0]\n",
      "Novo:  [datetime.datetime(2015, 12, 4, 22, 24, 54), 7.1, -47.7, -47.7, 10.0]\n",
      "Novo:  [datetime.datetime(2015, 11, 24, 22, 50, 53), 7.6, -10.0, -10.0, 612.0]\n",
      "Novo:  [datetime.datetime(2015, 11, 13, 20, 51), 7.0, 30.9, -30.9, 10.0]\n",
      "Novo:  [datetime.datetime(2015, 10, 26, 9, 9, 32), 7.7, 36.5, -36.5, 214.0]\n",
      "Novo:  [datetime.datetime(2015, 5, 30, 11, 23), 8.5, 27.9, -27.9, 696.0]\n",
      "Novo:  [datetime.datetime(2015, 4, 25, 6, 11, 25), 7.8, 28.2, -28.2, 12.0]\n",
      "Novo:  [datetime.datetime(2014, 8, 24, 10, 20, 44), 6.05, 38.2, -38.2, 11.0]\n",
      "Novo:  [datetime.datetime(2014, 6, 23, 20, 53, 10), 8.0, 51.8, -51.8, 114.0]\n",
      "Novo:  [datetime.datetime(2014, 4, 12, 20, 14, 39), 7.6, -11.3, -11.3, 29.0]\n",
      "Novo:  [datetime.datetime(2014, 4, 1, 23, 46, 45), 8.0, -19.6, -19.6, 10.0]\n",
      "Novo:  [datetime.datetime(2013, 5, 24, 5, 44, 48), 8.4, 54.9, -54.9, 598.0]\n",
      "Novo:  [datetime.datetime(2011, 8, 23, 17, 51, 3), 5.9, 38.0, -38.0, 1.0]\n",
      "Novo:  [datetime.datetime(2011, 3, 11, 5, 46, 24), 9.0, 38.3, -38.3, 29.0]\n",
      "Novo:  [datetime.datetime(2010, 2, 27, 6, 34, 11), 8.8, -36.1, -36.1, 23.0]\n",
      "Novo:  [datetime.datetime(2010, 1, 12, 21, 53, 9), 7.0, 18.5, -18.5, 10.0]\n",
      "Novo:  [datetime.datetime(2007, 4, 25, 13, 34, 14), 6.3, -14.3, -14.3, 55.0]\n",
      "Novo:  [datetime.datetime(2007, 4, 25, 11, 52, 55), 5.6, 7.4, -7.4, 27.0]\n",
      "Novo:  [datetime.datetime(2007, 3, 25, 0, 40, 1), 6.5, -20.6, -20.6, 34.0]\n",
      "Novo:  [datetime.datetime(2007, 1, 13, 4, 23, 20), 8.2, 46.3, -46.3, 10.0]\n",
      "Novo:  [datetime.datetime(2006, 7, 17, 8, 19, 26), 6.1, -9.3, -9.3, 20.0]\n",
      "Novo:  [datetime.datetime(2004, 12, 26, 0, 58, 52), 8.2, 3.4, -3.4, 26.0]\n",
      "Novo:  [datetime.datetime(2004, 9, 28, 17, 15, 24), 6.0, 35.8, -35.8, 8.8]\n",
      "Novo:  [datetime.datetime(2002, 11, 3, 22, 12, 41), 7.86, 63.6, -63.6, 11.0]\n",
      "Novo:  [datetime.datetime(1994, 1, 17, 12, 30, 54), 7.1, 34.1, -34.1, 16.0]\n",
      "Novo:  [datetime.datetime(1989, 10, 18, 0, 4, 14), 7.1, 37.1, -37.1, 7.6]\n"
     ]
    }
   ],
   "source": [
    "earthquakes = []\n",
    "for option in options:\n",
    "    myurl = base_url + option['value']\n",
    "    soup = bs(urlopen(myurl))\n",
    "    titems = soup.findAll('a', {'class': 'definition'})\n",
    "    mylist = []\n",
    "    for i in range (1,5):\n",
    "        mylist.append(titems[i].parent.findNext().findNext().find(text=True))\n",
    "    earthquakes.append(magicbox(mylist))"
   ]
  },
  {
   "cell_type": "markdown",
   "metadata": {},
   "source": [
    "CÁLCULOS"
   ]
  },
  {
   "cell_type": "code",
   "execution_count": 65,
   "metadata": {
    "collapsed": false
   },
   "outputs": [],
   "source": [
    "datas = []\n",
    "ocorrencias = []\n",
    "for quake in earthquakes:\n",
    "    data = quake[0].date()\n",
    "    if not data in datas:\n",
    "        datas.append(data)\n",
    "        ocorrencias.append(1)\n",
    "    else:\n",
    "        index = datas.index(data)\n",
    "        ocorrencias[index] += 1"
   ]
  },
  {
   "cell_type": "markdown",
   "metadata": {},
   "source": [
    "QUANTIDADE DE TERREMOTOS POR DIA"
   ]
  },
  {
   "cell_type": "code",
   "execution_count": 66,
   "metadata": {
    "collapsed": false
   },
   "outputs": [
    {
     "name": "stdout",
     "output_type": "stream",
     "text": [
      "   data     qtd\n",
      "2016-10-20   6\n",
      "2016-10-19   3\n",
      "2016-10-18   4\n",
      "2016-10-17   3\n",
      "2016-10-15   2\n",
      "2016-10-14   1\n",
      "2016-10-13   3\n",
      "2016-10-12   2\n",
      "2016-10-10   3\n",
      "2016-10-09   4\n",
      "2016-10-08   3\n",
      "2016-10-07   1\n",
      "2016-09-01   1\n",
      "2016-08-29   1\n",
      "2016-08-19   1\n",
      "2016-08-12   1\n",
      "2016-07-29   1\n",
      "2016-05-28   1\n",
      "2016-04-28   1\n",
      "2016-04-16   1\n",
      "2016-04-15   1\n",
      "2016-03-02   1\n",
      "2016-01-30   1\n",
      "2016-01-24   1\n",
      "2015-12-07   1\n",
      "2015-12-04   1\n",
      "2015-11-24   1\n",
      "2015-11-13   1\n",
      "2015-10-26   1\n",
      "2015-05-30   1\n",
      "2015-04-25   1\n",
      "2014-08-24   1\n",
      "2014-06-23   1\n",
      "2014-04-12   1\n",
      "2014-04-01   1\n",
      "2013-05-24   1\n",
      "2011-08-23   1\n",
      "2011-03-11   1\n",
      "2010-02-27   1\n",
      "2010-01-12   1\n",
      "2007-04-25   2\n",
      "2007-03-25   1\n",
      "2007-01-13   1\n",
      "2006-07-17   1\n",
      "2004-12-26   1\n",
      "2004-09-28   1\n",
      "2002-11-03   1\n",
      "1994-01-17   1\n",
      "1989-10-18   1\n"
     ]
    }
   ],
   "source": [
    "print '%7s %7s' % ('data','qtd')\n",
    "for i in range(0,len(datas)):\n",
    "    print '%s %3s' % (datas[i], ocorrencias[i])"
   ]
  },
  {
   "cell_type": "markdown",
   "metadata": {},
   "source": [
    "MEDIA ARITMETICA DE TERREMOTOS POR DIA"
   ]
  },
  {
   "cell_type": "code",
   "execution_count": 68,
   "metadata": {
    "collapsed": false
   },
   "outputs": [
    {
     "data": {
      "text/plain": [
       "1.489795918367347"
      ]
     },
     "execution_count": 68,
     "metadata": {},
     "output_type": "execute_result"
    }
   ],
   "source": [
    "sum(ocorrencias)/float(len(ocorrencias))"
   ]
  },
  {
   "cell_type": "markdown",
   "metadata": {},
   "source": [
    "MODA obviamente é 1 e mediana é 1 tambem"
   ]
  },
  {
   "cell_type": "markdown",
   "metadata": {},
   "source": [
    "MEDIA ARITMETICA DAS MAGNITUDES"
   ]
  },
  {
   "cell_type": "code",
   "execution_count": 73,
   "metadata": {
    "collapsed": false
   },
   "outputs": [
    {
     "data": {
      "text/plain": [
       "5.948630136986303"
      ]
     },
     "execution_count": 73,
     "metadata": {},
     "output_type": "execute_result"
    }
   ],
   "source": [
    "magnitudes = [quake[1] for quake in earthquakes]\n",
    "media_mag = sum(magnitudes)/float(len(magnitudes))\n",
    "media_mag"
   ]
  },
  {
   "cell_type": "code",
   "execution_count": null,
   "metadata": {
    "collapsed": true
   },
   "outputs": [],
   "source": []
  }
 ],
 "metadata": {
  "kernelspec": {
   "display_name": "Python 2",
   "language": "python",
   "name": "python2"
  },
  "language_info": {
   "codemirror_mode": {
    "name": "ipython",
    "version": 2
   },
   "file_extension": ".py",
   "mimetype": "text/x-python",
   "name": "python",
   "nbconvert_exporter": "python",
   "pygments_lexer": "ipython2",
   "version": "2.7.12"
  }
 },
 "nbformat": 4,
 "nbformat_minor": 0
}
