{
 "cells": [
  {
   "cell_type": "markdown",
   "metadata": {},
   "source": [
    "# IMPORTS"
   ]
  },
  {
   "cell_type": "code",
   "execution_count": 2,
   "metadata": {
    "collapsed": false
   },
   "outputs": [],
   "source": [
    "%matplotlib inline\n",
    "import matplotlib.pyplot as plt\n",
    "from urllib2 import urlopen\n",
    "from bs4 import BeautifulSoup as bs\n",
    "from datetime import datetime\n",
    "import pandas as pd\n",
    "from paretochart import pareto\n",
    "import csv"
   ]
  },
  {
   "cell_type": "markdown",
   "metadata": {},
   "source": [
    "# FUNÇÕES"
   ]
  },
  {
   "cell_type": "code",
   "execution_count": 3,
   "metadata": {
    "collapsed": true
   },
   "outputs": [],
   "source": [
    "def coordenadas (localizacao):\n",
    "    mystring = localizacao.split(',')\n",
    "    pos_latitude = mystring[0].split(' ')\n",
    "    pos_longitude = mystring[1].split(' ')\n",
    "    if pos_latitude[1] == 'N':\n",
    "        latitude = float(pos_latitude[0])\n",
    "    else:\n",
    "        latitude = float(pos_latitude[0]) * -1\n",
    "        \n",
    "    if pos_longitude[2] == 'E':\n",
    "        longitude = float(pos_longitude[1])\n",
    "    else:\n",
    "        longitude = float(pos_longitude[1]) * -1\n",
    "        \n",
    "    return latitude, longitude\n",
    "\n",
    "def magicbox(magic_input):\n",
    "    localizacao = magic_input[0]\n",
    "    data_hora = datetime.strptime(magic_input[1], '%Y-%m-%d %H:%M:%S')\n",
    "    magnitude = float(magic_input[2])\n",
    "    latitude, longitude = coordenadas(magic_input[3])\n",
    "    profundidade = float(magic_input[4].split(' ')[0])\n",
    "    \n",
    "    magic_output = [localizacao,data_hora,magnitude,latitude,longitude,profundidade]\n",
    "    return magic_output"
   ]
  },
  {
   "cell_type": "markdown",
   "metadata": {},
   "source": [
    "# SET UP"
   ]
  },
  {
   "cell_type": "code",
   "execution_count": 4,
   "metadata": {
    "collapsed": false
   },
   "outputs": [
    {
     "name": "stdout",
     "output_type": "stream",
     "text": [
      "Existem  77  terremotos registrados em rev.seis.sc.edu\n"
     ]
    }
   ],
   "source": [
    "site = \"http://rev.seis.sc.edu/earthquakes.html\"\n",
    "base_url = \"http://rev.seis.sc.edu/earthquakes/?eq_url=\"\n",
    "page = urlopen(site)\n",
    "\n",
    "soup = bs(page, \"html5lib\")\n",
    "options = soup.findAll(\"option\")\n",
    "print \"Existem \",len(options),\" terremotos registrados em rev.seis.sc.edu\""
   ]
  },
  {
   "cell_type": "markdown",
   "metadata": {},
   "source": [
    "# COLETA DE DADOS"
   ]
  },
  {
   "cell_type": "code",
   "execution_count": 5,
   "metadata": {
    "collapsed": false
   },
   "outputs": [],
   "source": [
    "earthquakes = []\n",
    "for option in options[:39]:\n",
    "    myurl = base_url + option['value']\n",
    "    soup = bs(urlopen(myurl), \"html5lib\")\n",
    "    titems = soup.findAll('a', {'class': 'definition'})\n",
    "    mylist = [option.find(text=True).split(',')[-2]]\n",
    "    for i in range (1,5):\n",
    "        mylist.append(titems[i].parent.findNext().findNext().find(text=True))\n",
    "    earthquakes.append(magicbox(mylist))"
   ]
  },
  {
   "cell_type": "code",
   "execution_count": 18,
   "metadata": {
    "collapsed": false
   },
   "outputs": [
    {
     "name": "stdout",
     "output_type": "stream",
     "text": [
      "Foram escolhidos os seguintes terremotos(38):\n",
      "\n",
      "Data/hora                 Mag.      Lat.      Long.    Prof.      Local\n",
      "2016-10-21 20:47:39       3.5      36.4     -98.8       5.0        Oklahoma \n",
      "2016-10-21 20:26:00       4.0      36.4     -98.8       2.1        Oklahoma \n",
      "2016-10-21 19:51:16       4.6      14.4     -91.4      98.0       Guatemala \n",
      "2016-10-21 05:07:23       6.6      35.4     133.8       6.4           Japan \n",
      "2016-10-21 04:56:47       3.5      67.8    -146.1      10.0          Alaska \n",
      "2016-10-20 19:08:09       3.6      59.8    -152.7      87.0          Alaska \n",
      "2016-10-20 15:21:16       4.6      17.6     -94.6     139.0          Mexico \n",
      "2016-10-20 15:13:14       4.6      14.7     -91.6     105.0       Guatemala \n",
      "2016-10-20 13:28:01       3.6      35.2    -107.4       5.0      New Mexico \n",
      "2016-10-20 12:14:08       3.6      36.9     -97.6       3.9          Kansas \n",
      "2016-10-20 07:59:30       4.0      54.3    -161.7      29.0          Alaska \n",
      "2016-10-19 22:33:35       3.5      36.8     -97.8       1.2        Oklahoma \n",
      "2016-10-19 11:40:50       3.7      57.0    -155.2      65.0          Alaska \n",
      "2016-10-19 00:26:01       6.2      -4.9     108.2     623.0       Indonesia \n",
      "2016-10-18 23:09:52       3.5      18.0     -68.5      87.0  Dominican Republic \n",
      "2016-10-18 22:08:14       5.8      15.2     -61.5     148.0        Dominica \n",
      "2016-10-18 16:36:42       5.9     -23.3    -179.9     548.0  South of the Fiji Islands \n",
      "2016-10-18 08:53:30       3.5      61.0    -147.5      16.0          Alaska \n",
      "2016-10-17 08:50:48       3.7      59.9    -153.0      94.0          Alaska \n",
      "2016-10-17 07:14:50       6.4      32.9      94.9      32.0           China \n",
      "2016-10-17 06:14:58       6.9      -6.1     148.9      35.0  Papua New Guinea \n",
      "2016-10-15 20:14:49       5.5      39.8      20.7      21.0          Greece \n",
      "2016-10-15 08:03:38       6.0      -4.3     150.4     451.0  Papua New Guinea \n",
      "2016-10-14 12:59:04       4.0      59.8    -151.8      69.0          Alaska \n",
      "2016-10-13 21:13:03       4.1      62.8    -124.9      10.0          Canada \n",
      "2016-10-13 03:55:13       5.1      25.5    -109.8      20.0          Mexico \n",
      "2016-10-13 02:48:41       3.6      36.8     -98.3       8.9        Oklahoma \n",
      "2016-10-12 03:21:26       5.7      -5.4     153.5      22.0  Papua New Guinea \n",
      "2016-10-12 02:57:45       3.9      65.7    -145.2      15.0          Alaska \n",
      "2016-10-10 20:27:55       3.5      36.4     -96.9       5.0        Oklahoma \n",
      "2016-10-10 05:24:29       3.8      60.2    -153.8     184.0          Alaska \n",
      "2016-10-10 00:05:45       3.7      59.1    -152.3      52.0          Alaska \n",
      "2016-10-09 14:46:27       5.7       1.8     127.5     137.0       Indonesia \n",
      "2016-10-09 12:23:05       3.8      36.4     -96.9       5.1        Oklahoma \n",
      "2016-10-09 03:05:02       3.5      65.8    -144.8      15.0          Alaska \n",
      "2016-10-09 02:28:48       4.1      64.7    -132.8      11.0          Canada \n",
      "2016-10-08 22:43:49      3.74      34.0    -117.3      14.0              CA \n",
      "2016-10-08 22:40:12       3.6      62.3    -151.3       2.4          Alaska \n"
     ]
    }
   ],
   "source": [
    "myquakes = earthquakes[1:39]\n",
    "print \"Foram escolhidos os seguintes terremotos(%s):\\n\" % len(myquakes)\n",
    "print '%s %20s %9s %10s %8s %10s' % ('Data/hora',\"Mag.\",'Lat.','Long.','Prof.','Local')\n",
    "for quake in myquakes:\n",
    "    for item in quake[1:]:\n",
    "        print '%9s' % item,\n",
    "    print \"%15s\" % quake[0],\n",
    "    print ''"
   ]
  },
  {
   "cell_type": "markdown",
   "metadata": {},
   "source": [
    "CÁLCULOS"
   ]
  },
  {
   "cell_type": "code",
   "execution_count": 7,
   "metadata": {
    "collapsed": false
   },
   "outputs": [],
   "source": [
    "datas = []\n",
    "ocorrencias = []\n",
    "for quake in myquakes:\n",
    "    data = quake[1].date()\n",
    "    if not data in datas:\n",
    "        datas.append(data)\n",
    "        ocorrencias.append(1)\n",
    "    else:\n",
    "        index = datas.index(data)\n",
    "        ocorrencias[index] += 1"
   ]
  },
  {
   "cell_type": "markdown",
   "metadata": {},
   "source": [
    "# TERREMOTOS POR DIA"
   ]
  },
  {
   "cell_type": "code",
   "execution_count": 22,
   "metadata": {
    "collapsed": false
   },
   "outputs": [
    {
     "name": "stdout",
     "output_type": "stream",
     "text": [
      "media da quantidade de terremotos por dia:  3.16666666667\n",
      "O rol da qtd. terremotos/dia é:\n",
      "1   2   2   2   3   3   3   3   4   4   5   6   \n",
      "onde a mediana é 3 e a moda é 3.\n"
     ]
    }
   ],
   "source": [
    "print 'media da quantidade de terremotos por dia: ',sum(ocorrencias)/float(len(ocorrencias))\n",
    "print 'O rol da qtd. terremotos/dia é:'\n",
    "for i in sorted(ocorrencias):\n",
    "    print i,' ',\n",
    "print ''\n",
    "print 'onde a mediana é 3 e a moda é 3.'"
   ]
  },
  {
   "cell_type": "markdown",
   "metadata": {},
   "source": [
    "<table>\n",
    "<tr>\n",
    "<th>Data</th><th>Quantidade</th>\n",
    "</tr>\n",
    "<tr><td> 2016-10-21 </td><td> 5 </td></tr>\n",
    "<tr><td> 2016-10-20 </td><td> 6 </td></tr>\n",
    "<tr><td> 2016-10-19 </td><td> 3 </td></tr>\n",
    "<tr><td> 2016-10-18 </td><td> 4 </td></tr>\n",
    "<tr><td> 2016-10-17 </td><td> 3 </td></tr>\n",
    "<tr><td> 2016-10-15 </td><td> 2 </td></tr>\n",
    "<tr><td> 2016-10-14 </td><td> 1 </td></tr>\n",
    "<tr><td> 2016-10-13 </td><td> 3 </td></tr>\n",
    "<tr><td> 2016-10-12 </td><td> 2 </td></tr>\n",
    "<tr><td> 2016-10-10 </td><td> 3 </td></tr>\n",
    "<tr><td> 2016-10-09 </td><td> 4 </td></tr>\n",
    "<tr><td> 2016-10-08 </td><td> 2 </td></tr>\n",
    "</table>"
   ]
  },
  {
   "cell_type": "markdown",
   "metadata": {},
   "source": [
    "MAGNITUDES"
   ]
  },
  {
   "cell_type": "code",
   "execution_count": 31,
   "metadata": {
    "collapsed": false
   },
   "outputs": [
    {
     "name": "stdout",
     "output_type": "stream",
     "text": [
      "a media das magnitudes é  4.43789473684\n",
      "O rol das magnitudes é:\n",
      "\n",
      "3.5   3.5   3.5   3.5   3.5   3.5   3.5   3.6   3.6   3.6   3.6   3.6   3.7   3.7   3.7   3.74   3.8   3.8   3.9   4.0   4.0   4.0   4.1   4.1   4.6   4.6   4.6   5.1   5.5   5.7   5.7   5.8   5.9   6.0   6.2   6.4   6.6   6.9   \n",
      "\n",
      "onde a mediana ou segundo quartil é 3.95 e a moda é 3.5.\n",
      "O primeiro quartil é 3.6\n",
      "O terceiro quartil é 5.5\n"
     ]
    }
   ],
   "source": [
    "magnitudes = [quake[2] for quake in myquakes]\n",
    "media_mag = sum(magnitudes)/float(len(magnitudes))\n",
    "print 'a media das magnitudes é ',media_mag\n",
    "print 'O rol das magnitudes é:\\n'\n",
    "lista_magnitudes = sorted(magnitudes)\n",
    "for magnitude in lista_magnitudes:\n",
    "    print magnitude,' ',\n",
    "mag1 = lista_magnitudes[len(magnitudes)/2]\n",
    "mag2 = lista_magnitudes[len(magnitudes)/2 - 1]\n",
    "\n",
    "print '\\n\\nonde a mediana ou segundo quartil é %s e a moda é 3.5.' % ((mag1+mag2)/2)\n",
    "\n",
    "metade1 = lista_magnitudes[:19]\n",
    "metade2 = lista_magnitudes[19:]\n",
    "print 'O primeiro quartil é %s' % (metade1[len(metade1)/2])\n",
    "print 'O terceiro quartil é %s' % (metade2[len(metade2)/2])"
   ]
  },
  {
   "cell_type": "code",
   "execution_count": 29,
   "metadata": {
    "collapsed": false
   },
   "outputs": [
    {
     "data": {
      "text/plain": [
       "19"
      ]
     },
     "execution_count": 29,
     "metadata": {},
     "output_type": "execute_result"
    }
   ],
   "source": []
  },
  {
   "cell_type": "code",
   "execution_count": 10,
   "metadata": {
    "collapsed": false
   },
   "outputs": [
    {
     "name": "stdout",
     "output_type": "stream",
     "text": [
      "Gráfico: num. de terremotos/dia X data\n"
     ]
    },
    {
     "data": {
      "image/png": "[encoded data removed]",
      "text/plain": [
       "<matplotlib.figure.Figure at 0x7f73ce620190>"
      ]
     },
     "metadata": {},
     "output_type": "display_data"
    }
   ],
   "source": [
    "mes_dia = [data.strftime(\"%d/%m\") for data in datas]\n",
    "ser = pd.Series(ocorrencias, index=mes_dia)\n",
    "print 'Gráfico: num. de terremotos/dia X data'\n",
    "ax1 = ser.plot(kind='bar')"
   ]
  },
  {
   "cell_type": "code",
   "execution_count": 11,
   "metadata": {
    "collapsed": false,
    "scrolled": true
   },
   "outputs": [
    {
     "name": "stdout",
     "output_type": "stream",
     "text": [
      "Diagrama de Pareto para as quantidades de terremoto por dia\n",
      "Os dias são todos do mês de outubro de 2016\n"
     ]
    },
    {
     "data": {
      "image/png": "[encoded data removed]",
      "text/plain": [
       "<matplotlib.figure.Figure at 0x7f73c72e4090>"
      ]
     },
     "metadata": {},
     "output_type": "display_data"
    }
   ],
   "source": [
    "dias = [data.strftime(\"%d\") for data in datas]\n",
    "print 'Diagrama de Pareto para as quantidades de terremoto por dia'\n",
    "pareto(ocorrencias,dias,data_kw={'width': 0.5,\n",
    "    'color': 'b'})\n",
    "print \"Os dias são todos do mês de outubro de 2016\""
   ]
  },
  {
   "cell_type": "markdown",
   "metadata": {},
   "source": [
    "<table>\n",
    "<tr>\n",
    "<th>LOCAL</th><th>DATA</th><th>MAGNITUDE</th><th>LATITUDE</th><th>LONGITUDE</th><th>PROFUNDIDADE</th>\n",
    "</tr>\n",
    "<tr>\n",
    "<td>  Oklahoma </td>\n",
    "<td> 2016-10-21 </td>\n",
    "<td> 3.5 </td>\n",
    "<td> 36.4 </td>\n",
    "<td> -98.8 </td>\n",
    "<td> 5.0 </td>\n",
    "</tr>\n",
    "<tr>\n",
    "<td>  Oklahoma </td>\n",
    "<td> 2016-10-21 </td>\n",
    "<td> 4.0 </td>\n",
    "<td> 36.4 </td>\n",
    "<td> -98.8 </td>\n",
    "<td> 2.1 </td>\n",
    "</tr>\n",
    "<tr>\n",
    "<td>  Guatemala </td>\n",
    "<td> 2016-10-21 </td>\n",
    "<td> 4.6 </td>\n",
    "<td> 14.4 </td>\n",
    "<td> -91.4 </td>\n",
    "<td> 98.0 </td>\n",
    "</tr>\n",
    "<tr>\n",
    "<td>  Japan </td>\n",
    "<td> 2016-10-21 </td>\n",
    "<td> 6.6 </td>\n",
    "<td> 35.4 </td>\n",
    "<td> 133.8 </td>\n",
    "<td> 6.4 </td>\n",
    "</tr>\n",
    "<tr>\n",
    "<td>  Alaska </td>\n",
    "<td> 2016-10-21 </td>\n",
    "<td> 3.5 </td>\n",
    "<td> 67.8 </td>\n",
    "<td> -146.1 </td>\n",
    "<td> 10.0 </td>\n",
    "</tr>\n",
    "<tr>\n",
    "<td>  Alaska </td>\n",
    "<td> 2016-10-20 </td>\n",
    "<td> 3.6 </td>\n",
    "<td> 59.8 </td>\n",
    "<td> -152.7 </td>\n",
    "<td> 87.0 </td>\n",
    "</tr>\n",
    "<tr>\n",
    "<td>  Mexico </td>\n",
    "<td> 2016-10-20 </td>\n",
    "<td> 4.6 </td>\n",
    "<td> 17.6 </td>\n",
    "<td> -94.6 </td>\n",
    "<td> 139.0 </td>\n",
    "</tr>\n",
    "<tr>\n",
    "<td>  Guatemala </td>\n",
    "<td> 2016-10-20 </td>\n",
    "<td> 4.6 </td>\n",
    "<td> 14.7 </td>\n",
    "<td> -91.6 </td>\n",
    "<td> 105.0 </td>\n",
    "</tr>\n",
    "<tr>\n",
    "<td>  New Mexico </td>\n",
    "<td> 2016-10-20 </td>\n",
    "<td> 3.6 </td>\n",
    "<td> 35.2 </td>\n",
    "<td> -107.4 </td>\n",
    "<td> 5.0 </td>\n",
    "</tr>\n",
    "<tr>\n",
    "<td>  Kansas </td>\n",
    "<td> 2016-10-20 </td>\n",
    "<td> 3.6 </td>\n",
    "<td> 36.9 </td>\n",
    "<td> -97.6 </td>\n",
    "<td> 3.9 </td>\n",
    "</tr>\n",
    "<tr>\n",
    "<td>  Alaska </td>\n",
    "<td> 2016-10-20 </td>\n",
    "<td> 4.0 </td>\n",
    "<td> 54.3 </td>\n",
    "<td> -161.7 </td>\n",
    "<td> 29.0 </td>\n",
    "</tr>\n",
    "<tr>\n",
    "<td>  Oklahoma </td>\n",
    "<td> 2016-10-19 </td>\n",
    "<td> 3.5 </td>\n",
    "<td> 36.8 </td>\n",
    "<td> -97.8 </td>\n",
    "<td> 1.2 </td>\n",
    "</tr>\n",
    "<tr>\n",
    "<td>  Alaska </td>\n",
    "<td> 2016-10-19 </td>\n",
    "<td> 3.7 </td>\n",
    "<td> 57.0 </td>\n",
    "<td> -155.2 </td>\n",
    "<td> 65.0 </td>\n",
    "</tr>\n",
    "<tr>\n",
    "<td>  Indonesia </td>\n",
    "<td> 2016-10-19 </td>\n",
    "<td> 6.2 </td>\n",
    "<td> -4.9 </td>\n",
    "<td> 108.2 </td>\n",
    "<td> 623.0 </td>\n",
    "</tr>\n",
    "<tr>\n",
    "<td>  Dominican Republic </td>\n",
    "<td> 2016-10-18 </td>\n",
    "<td> 3.5 </td>\n",
    "<td> 18.0 </td>\n",
    "<td> -68.5 </td>\n",
    "<td> 87.0 </td>\n",
    "</tr>\n",
    "<tr>\n",
    "<td>  Dominica </td>\n",
    "<td> 2016-10-18 </td>\n",
    "<td> 5.8 </td>\n",
    "<td> 15.2 </td>\n",
    "<td> -61.5 </td>\n",
    "<td> 148.0 </td>\n",
    "</tr>\n",
    "<tr>\n",
    "<td>  South of the Fiji Islands </td>\n",
    "<td> 2016-10-18 </td>\n",
    "<td> 5.9 </td>\n",
    "<td> -23.3 </td>\n",
    "<td> -179.9 </td>\n",
    "<td> 548.0 </td>\n",
    "</tr>\n",
    "<tr>\n",
    "<td>  Alaska </td>\n",
    "<td> 2016-10-18 </td>\n",
    "<td> 3.5 </td>\n",
    "<td> 61.0 </td>\n",
    "<td> -147.5 </td>\n",
    "<td> 16.0 </td>\n",
    "</tr>\n",
    "<tr>\n",
    "<td>  Alaska </td>\n",
    "<td> 2016-10-17 </td>\n",
    "<td> 3.7 </td>\n",
    "<td> 59.9 </td>\n",
    "<td> -153.0 </td>\n",
    "<td> 94.0 </td>\n",
    "</tr>\n",
    "<tr>\n",
    "<td>  China </td>\n",
    "<td> 2016-10-17 </td>\n",
    "<td> 6.4 </td>\n",
    "<td> 32.9 </td>\n",
    "<td> 94.9 </td>\n",
    "<td> 32.0 </td>\n",
    "</tr>\n",
    "<tr>\n",
    "<td>  Papua New Guinea </td>\n",
    "<td> 2016-10-17 </td>\n",
    "<td> 6.9 </td>\n",
    "<td> -6.1 </td>\n",
    "<td> 148.9 </td>\n",
    "<td> 35.0 </td>\n",
    "</tr>\n",
    "<tr>\n",
    "<td>  Greece </td>\n",
    "<td> 2016-10-15 </td>\n",
    "<td> 5.5 </td>\n",
    "<td> 39.8 </td>\n",
    "<td> 20.7 </td>\n",
    "<td> 21.0 </td>\n",
    "</tr>\n",
    "<tr>\n",
    "<td>  Papua New Guinea </td>\n",
    "<td> 2016-10-15 </td>\n",
    "<td> 6.0 </td>\n",
    "<td> -4.3 </td>\n",
    "<td> 150.4 </td>\n",
    "<td> 451.0 </td>\n",
    "</tr>\n",
    "<tr>\n",
    "<td>  Alaska </td>\n",
    "<td> 2016-10-14 </td>\n",
    "<td> 4.0 </td>\n",
    "<td> 59.8 </td>\n",
    "<td> -151.8 </td>\n",
    "<td> 69.0 </td>\n",
    "</tr>\n",
    "<tr>\n",
    "<td>  Canada </td>\n",
    "<td> 2016-10-13 </td>\n",
    "<td> 4.1 </td>\n",
    "<td> 62.8 </td>\n",
    "<td> -124.9 </td>\n",
    "<td> 10.0 </td>\n",
    "</tr>\n",
    "<tr>\n",
    "<td>  Mexico </td>\n",
    "<td> 2016-10-13 </td>\n",
    "<td> 5.1 </td>\n",
    "<td> 25.5 </td>\n",
    "<td> -109.8 </td>\n",
    "<td> 20.0 </td>\n",
    "</tr>\n",
    "<tr>\n",
    "<td>  Oklahoma </td>\n",
    "<td> 2016-10-13 </td>\n",
    "<td> 3.6 </td>\n",
    "<td> 36.8 </td>\n",
    "<td> -98.3 </td>\n",
    "<td> 8.9 </td>\n",
    "</tr>\n",
    "<tr>\n",
    "<td>  Papua New Guinea </td>\n",
    "<td> 2016-10-12 </td>\n",
    "<td> 5.7 </td>\n",
    "<td> -5.4 </td>\n",
    "<td> 153.5 </td>\n",
    "<td> 22.0 </td>\n",
    "</tr>\n",
    "<tr>\n",
    "<td>  Alaska </td>\n",
    "<td> 2016-10-12 </td>\n",
    "<td> 3.9 </td>\n",
    "<td> 65.7 </td>\n",
    "<td> -145.2 </td>\n",
    "<td> 15.0 </td>\n",
    "</tr>\n",
    "<tr>\n",
    "<td>  Oklahoma </td>\n",
    "<td> 2016-10-10 </td>\n",
    "<td> 3.5 </td>\n",
    "<td> 36.4 </td>\n",
    "<td> -96.9 </td>\n",
    "<td> 5.0 </td>\n",
    "</tr>\n",
    "<tr>\n",
    "<td>  Alaska </td>\n",
    "<td> 2016-10-10 </td>\n",
    "<td> 3.8 </td>\n",
    "<td> 60.2 </td>\n",
    "<td> -153.8 </td>\n",
    "<td> 184.0 </td>\n",
    "</tr>\n",
    "<tr>\n",
    "<td>  Alaska </td>\n",
    "<td> 2016-10-10 </td>\n",
    "<td> 3.7 </td>\n",
    "<td> 59.1 </td>\n",
    "<td> -152.3 </td>\n",
    "<td> 52.0 </td>\n",
    "</tr>\n",
    "<tr>\n",
    "<td>  Indonesia </td>\n",
    "<td> 2016-10-09 </td>\n",
    "<td> 5.7 </td>\n",
    "<td> 1.8 </td>\n",
    "<td> 127.5 </td>\n",
    "<td> 137.0 </td>\n",
    "</tr>\n",
    "<tr>\n",
    "<td>  Oklahoma </td>\n",
    "<td> 2016-10-09 </td>\n",
    "<td> 3.8 </td>\n",
    "<td> 36.4 </td>\n",
    "<td> -96.9 </td>\n",
    "<td> 5.1 </td>\n",
    "</tr>\n",
    "<tr>\n",
    "<td>  Alaska </td>\n",
    "<td> 2016-10-09 </td>\n",
    "<td> 3.5 </td>\n",
    "<td> 65.8 </td>\n",
    "<td> -144.8 </td>\n",
    "<td> 15.0 </td>\n",
    "</tr>\n",
    "<tr>\n",
    "<td>  Canada </td>\n",
    "<td> 2016-10-09 </td>\n",
    "<td> 4.1 </td>\n",
    "<td> 64.7 </td>\n",
    "<td> -132.8 </td>\n",
    "<td> 11.0 </td>\n",
    "</tr>\n",
    "<tr>\n",
    "<td>  CA </td>\n",
    "<td> 2016-10-08 </td>\n",
    "<td> 3.74 </td>\n",
    "<td> 34.0 </td>\n",
    "<td> -117.3 </td>\n",
    "<td> 14.0 </td>\n",
    "</tr>\n",
    "<tr>\n",
    "<td>  Alaska </td>\n",
    "<td> 2016-10-08 </td>\n",
    "<td> 3.6 </td>\n",
    "<td> 62.3 </td>\n",
    "<td> -151.3 </td>\n",
    "<td> 2.4 </td>\n",
    "</tr>\n",
    "</table>"
   ]
  },
  {
   "cell_type": "code",
   "execution_count": null,
   "metadata": {
    "collapsed": true
   },
   "outputs": [],
   "source": []
  }
 ],
 "metadata": {
  "kernelspec": {
   "display_name": "Python 2",
   "language": "python",
   "name": "python2"
  },
  "language_info": {
   "codemirror_mode": {
    "name": "ipython",
    "version": 2
   },
   "file_extension": ".py",
   "mimetype": "text/x-python",
   "name": "python",
   "nbconvert_exporter": "python",
   "pygments_lexer": "ipython2",
   "version": "2.7.12"
  }
 },
 "nbformat": 4,
 "nbformat_minor": 0
}
