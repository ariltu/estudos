{
 "cells": [
  {
   "cell_type": "code",
   "execution_count": 1,
   "metadata": {
    "collapsed": true
   },
   "outputs": [],
   "source": [
    "import mechanize\n",
    "import urllib\n",
    "from bs4 import BeautifulSoup as bsoup\n",
    "import sqlite3\n",
    "#Browser\n",
    "driver = mechanize.Browser()\n",
    "#URLs\n",
    "base_url = \"http://192.168.0.1\"\n",
    "login_url = base_url+\"/goform/login\"\n",
    "mac_filter_url = base_url + \"/goform/LanAccess\"\n",
    "#Dados basicos\n",
    "mac_filter_base_data = \"file=feat-firewall-macfilter&dir=admin%2F&access_type=&trustmode=1&mac=1\"\n",
    "#Banco\n",
    "conn = sqlite3.connect('/home/diego/hitron.db')\n",
    "cursor = conn.cursor()"
   ]
  },
  {
   "cell_type": "code",
   "execution_count": 62,
   "metadata": {
    "collapsed": false
   },
   "outputs": [],
   "source": [
    "def login(driver):\n",
    "    #Já faz login submetendo username e senha\n",
    "    return driver.open(login_url, 'user=cusadmin&pws=password')\n",
    "    \n",
    "def access_type(driver, value):\n",
    "    #0=allow all, 1=allow, 2=deny\n",
    "    return driver.open(post_url,base_data + \"&access_type=\" + str(value))\n",
    "\n",
    "def refresh(driver):\n",
    "    reset = {'trustmode':'1'}\n",
    "    data = mac_filter_base_data + '&' + urllib.urlencode(reset)\n",
    "    driver.open(mac_filter_url,data)\n",
    "    reset = {'trustmode':'2'}\n",
    "    data = mac_filter_base_data + '&' + urllib.urlencode(reset)\n",
    "    driver.open(mac_filter_url,data)\n",
    "    \n",
    "def enable_all(driver):\n",
    "    sql = \"SELECT nome, mac FROM dispositivos\"\n",
    "    cursor.execute(sql)\n",
    "    resultado = [x for x in cursor.fetchall()]\n",
    "    payload = {}\n",
    "    for i, linha in enumerate(resultado):\n",
    "        payload[\"mac%d\"%i] = \"%s,%s\" % (linha[0],linha[1])\n",
    "    data = mac_filter_base_data + '&' + urllib.urlencode(payload)\n",
    "    print data\n",
    "    driver.open(mac_filter_url,data)"
   ]
  },
  {
   "cell_type": "code",
   "execution_count": 63,
   "metadata": {
    "collapsed": false
   },
   "outputs": [
    {
     "name": "stdout",
     "output_type": "stream",
     "text": [
      "file=feat-firewall-macfilter&dir=admin%2F&access_type=&trustmode=1&mac=1&\n"
     ]
    }
   ],
   "source": [
    "login(driver)\n",
    "enable_all(driver)"
   ]
  },
  {
   "cell_type": "code",
   "execution_count": 61,
   "metadata": {
    "collapsed": false
   },
   "outputs": [
    {
     "data": {
      "text/plain": [
       "<response_seek_wrapper at 0x7f7d300dac68 whose wrapped object = <closeable_response at 0x7f7d3006bcb0 whose fp = <socket._fileobject object at 0x7f7d3005add0>>>"
      ]
     },
     "execution_count": 61,
     "metadata": {},
     "output_type": "execute_result"
    }
   ],
   "source": [
    "allowed_macs = {'trustmode':'1',\n",
    "                'mac0': 'diegocel,40:78:6a:9a:bb:69',\n",
    "                'mac1': 'paicel,f8:cf:c5:9c:08:74',\n",
    "                'mac2': 'diegopc,e0:06:e6:fd:22:2b',\n",
    "                'mac3': 'maetablet,78:a8:73:90:26:fa',\n",
    "                'mac4': 'danicel,44:80:eb:bc:8f:07'}\n",
    "\n",
    "denied_macs = {'trustmode':'2',\n",
    "               'mac0':'maetableto,29:A8:73:90:26:FF'}\n",
    "\n",
    "data = mac_filter_base_data + '&' + urllib.urlencode(denied_macs)\n",
    "\n",
    "login(driver)\n",
    "driver.open(mac_filter_url,data)"
   ]
  },
  {
   "cell_type": "code",
   "execution_count": 2,
   "metadata": {
    "collapsed": false
   },
   "outputs": [
    {
     "data": {
      "text/plain": [
       "[]"
      ]
     },
     "execution_count": 2,
     "metadata": {},
     "output_type": "execute_result"
    }
   ],
   "source": [
    "# sql = \"\"\"\n",
    "# INSERT INTO dispositivos (nome, mac, acesso_permitido)\n",
    "# VALUES (?,?,?)\n",
    "# \"\"\"\n",
    "# cursor.execute(sql, (\"maetableto\",\"29:35:eb:bc:8f:07\",\"FALSE\"))\n",
    "\n",
    "sql = \"\"\"\n",
    "SELECT nome, mac FROM dispositivos\n",
    "\"\"\"\n",
    "cursor.execute(sql)\n",
    "r = [x for x in cursor.fetchall()]\n",
    "r"
   ]
  },
  {
   "cell_type": "code",
   "execution_count": 9,
   "metadata": {
    "collapsed": true
   },
   "outputs": [],
   "source": [
    "conn.close()"
   ]
  },
  {
   "cell_type": "code",
   "execution_count": null,
   "metadata": {
    "collapsed": true
   },
   "outputs": [],
   "source": []
  }
 ],
 "metadata": {
  "kernelspec": {
   "display_name": "Python 2",
   "language": "python",
   "name": "python2"
  },
  "language_info": {
   "codemirror_mode": {
    "name": "ipython",
    "version": 2
   },
   "file_extension": ".py",
   "mimetype": "text/x-python",
   "name": "python",
   "nbconvert_exporter": "python",
   "pygments_lexer": "ipython2",
   "version": "2.7.12"
  }
 },
 "nbformat": 4,
 "nbformat_minor": 1
}
