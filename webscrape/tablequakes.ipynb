{
 "cells": [
  {
   "cell_type": "code",
   "execution_count": 5,
   "metadata": {
    "collapsed": true
   },
   "outputs": [],
   "source": [
    "from imports import tablequakes\n",
    "from bs4 import BeautifulSoup as bs"
   ]
  },
  {
   "cell_type": "code",
   "execution_count": 7,
   "metadata": {
    "collapsed": false
   },
   "outputs": [],
   "source": [
    "soup = bs(tablequakes, \"html.parser\")"
   ]
  },
  {
   "cell_type": "code",
   "execution_count": 47,
   "metadata": {
    "collapsed": true
   },
   "outputs": [],
   "source": [
    "rows = soup.findAll(\"tr\")\n",
    "datas = []\n",
    "magnis = []\n",
    "latis = []\n",
    "longis = []\n",
    "profs = []"
   ]
  },
  {
   "cell_type": "code",
   "execution_count": 39,
   "metadata": {
    "collapsed": false
   },
   "outputs": [
    {
     "data": {
      "text/plain": [
       "39"
      ]
     },
     "execution_count": 39,
     "metadata": {},
     "output_type": "execute_result"
    }
   ],
   "source": [
    "len(rows)"
   ]
  },
  {
   "cell_type": "code",
   "execution_count": 49,
   "metadata": {
    "collapsed": false
   },
   "outputs": [],
   "source": [
    "for row in rows[1:]:\n",
    "    d = row.findAll(\"td\")\n",
    "    datas.append(int(str(d[1]).split(\"-\")[-1].split(\" \")[0]))\n",
    "    magnis.append(float(str(d[2]).split(\" \")[1]))\n",
    "    latis.append(float(str(d[3]).split(\" \")[1]))\n",
    "    longis.append(float(str(d[4]).split(\" \")[1]))\n",
    "    profs.append(float(str(d[5]).split(\" \")[1]))\n",
    "    \n",
    "    "
   ]
  },
  {
   "cell_type": "code",
   "execution_count": 51,
   "metadata": {
    "collapsed": false
   },
   "outputs": [],
   "source": [
    "acumulado = [0,0,0,0,0]\n",
    "\n",
    "for i in range(len(rows)-1):\n",
    "    acumulado[0] += datas[i]\n",
    "    acumulado[1] += magnis[i]\n",
    "    acumulado[2] += latis[i]\n",
    "    acumulado[3] += longis[i]\n",
    "    acumulado[4] += profs[i]"
   ]
  },
  {
   "cell_type": "code",
   "execution_count": 61,
   "metadata": {
    "collapsed": false
   },
   "outputs": [
    {
     "name": "stdout",
     "output_type": "stream",
     "text": [
      "medias:\n",
      "Data :  15\n",
      "Mag :  4.43789473684\n",
      "Lat :  35.7052631579\n",
      "Lon :  -72.1657894737\n",
      "Prof :  83.7368421053\n"
     ]
    }
   ],
   "source": [
    "ordem = ['Data','Mag','Lat','Lon','Prof']\n",
    "medias = []\n",
    "print 'medias:'\n",
    "for i in range(5):\n",
    "    medias.append(acumulado[i]/(len(rows)-1))\n",
    "    print ordem[i],': ',medias[i]"
   ]
  },
  {
   "cell_type": "code",
   "execution_count": 62,
   "metadata": {
    "collapsed": false
   },
   "outputs": [],
   "source": [
    "acumulado_desvio = [0,0,0,0,0]\n",
    "for i in range(len(rows)-1):\n",
    "    acumulado_desvio[0] += (datas[i] - medias[0]) ** 2\n",
    "    acumulado_desvio[1] += (magnis[i]- medias[1]) ** 2\n",
    "    acumulado_desvio[2] += (latis[i]- medias[2]) ** 2\n",
    "    acumulado_desvio[3] += (longis[i]- medias[3]) ** 2\n",
    "    acumulado_desvio[4] += (profs[i]- medias[4]) ** 2"
   ]
  },
  {
   "cell_type": "code",
   "execution_count": 65,
   "metadata": {
    "collapsed": false
   },
   "outputs": [
    {
     "name": "stdout",
     "output_type": "stream",
     "text": [
      "desvios: \n",
      "Data :  4.472135955\n",
      "Mag :  1.07365291562\n",
      "Lat :  24.8578656579\n",
      "Lon :  104.60013249\n",
      "Prof :  145.324647602\n"
     ]
    }
   ],
   "source": [
    "print 'desvios: '\n",
    "for i in range(5):\n",
    "    print ordem[i],': ',(acumulado_desvio[i]/(len(rows)-2))**(1/2.)"
   ]
  },
  {
   "cell_type": "code",
   "execution_count": 67,
   "metadata": {
    "collapsed": false
   },
   "outputs": [
    {
     "name": "stdout",
     "output_type": "stream",
     "text": [
      "21 21 21 21 21 20 20 20 20 20 20 19 19 19 18 18 18 18 17 17 17 15 15 14 13 13 13 12 12 10 10 10 9 9 9 9 8 8\n"
     ]
    }
   ],
   "source": [
    "for i in datas:\n",
    "    print i,"
   ]
  },
  {
   "cell_type": "code",
   "execution_count": 69,
   "metadata": {
    "collapsed": false
   },
   "outputs": [
    {
     "name": "stdout",
     "output_type": "stream",
     "text": [
      "3.5 4.0 4.6 6.6 3.5 3.6 4.6 4.6 3.6 3.6 4.0 3.5 3.7 6.2 3.5 5.8 5.9 3.5 3.7 6.4 6.9 5.5 6.0 4.0 4.1 5.1 3.6 5.7 3.9 3.5 3.8 3.7 5.7 3.8 3.5 4.1 3.74 3.6\n"
     ]
    }
   ],
   "source": [
    "for i in magnis:\n",
    "    print i,"
   ]
  },
  {
   "cell_type": "code",
   "execution_count": 70,
   "metadata": {
    "collapsed": false
   },
   "outputs": [
    {
     "name": "stdout",
     "output_type": "stream",
     "text": [
      "36.4 36.4 14.4 35.4 67.8 59.8 17.6 14.7 35.2 36.9 54.3 36.8 57.0 -4.9 18.0 15.2 -23.3 61.0 59.9 32.9 -6.1 39.8 -4.3 59.8 62.8 25.5 36.8 -5.4 65.7 36.4 60.2 59.1 1.8 36.4 65.8 64.7 34.0 62.3\n"
     ]
    }
   ],
   "source": [
    "for i in latis:\n",
    "    print i,"
   ]
  },
  {
   "cell_type": "code",
   "execution_count": 71,
   "metadata": {
    "collapsed": false
   },
   "outputs": [
    {
     "name": "stdout",
     "output_type": "stream",
     "text": [
      "-98.8 -98.8 -91.4 133.8 -146.1 -152.7 -94.6 -91.6 -107.4 -97.6 -161.7 -97.8 -155.2 108.2 -68.5 -61.5 -179.9 -147.5 -153.0 94.9 148.9 20.7 150.4 -151.8 -124.9 -109.8 -98.3 153.5 -145.2 -96.9 -153.8 -152.3 127.5 -96.9 -144.8 -132.8 -117.3 -151.3\n"
     ]
    }
   ],
   "source": [
    "for i in longis:\n",
    "    print i,"
   ]
  },
  {
   "cell_type": "code",
   "execution_count": 72,
   "metadata": {
    "collapsed": false
   },
   "outputs": [
    {
     "name": "stdout",
     "output_type": "stream",
     "text": [
      "5.0 2.1 98.0 6.4 10.0 87.0 139.0 105.0 5.0 3.9 29.0 1.2 65.0 623.0 87.0 148.0 548.0 16.0 94.0 32.0 35.0 21.0 451.0 69.0 10.0 20.0 8.9 22.0 15.0 5.0 184.0 52.0 137.0 5.1 15.0 11.0 14.0 2.4\n"
     ]
    }
   ],
   "source": [
    "for i in profs:\n",
    "    print i,"
   ]
  },
  {
   "cell_type": "code",
   "execution_count": null,
   "metadata": {
    "collapsed": true
   },
   "outputs": [],
   "source": []
  }
 ],
 "metadata": {
  "kernelspec": {
   "display_name": "Python 2",
   "language": "python",
   "name": "python2"
  },
  "language_info": {
   "codemirror_mode": {
    "name": "ipython",
    "version": 2
   },
   "file_extension": ".py",
   "mimetype": "text/x-python",
   "name": "python",
   "nbconvert_exporter": "python",
   "pygments_lexer": "ipython2",
   "version": "2.7.11"
  }
 },
 "nbformat": 4,
 "nbformat_minor": 1
}
