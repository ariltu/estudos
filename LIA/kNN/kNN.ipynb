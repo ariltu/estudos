{
 "cells": [
  {
   "cell_type": "markdown",
   "metadata": {},
   "source": [
    "Tutorial: implementando kNN em Python\n",
    "=================\n",
    "O algoritmo \"kNN\" (k-Nearest Neighbors ou k-vizinhos mais próximos) é fácil de entender e implementar, além de ser uma ferramenta poderosa!\n",
    "Quase parece ser simples demais para ser um algoritmo de *machine learning*. \n",
    "\n",
    "A ideia é a seguinte: \n",
    "\n",
    "*\"Se o que estou comendo parece pizza com borda de chocolate e tem borda de chocolate, então deve ser pizza com borda de chocolate!\"*\n",
    "\n",
    "Em outras palavras, para classificar uma coisa desconhecida, analisamos com o que essa coisa mais se parece, e fazemos uma média para chegar à conclusão!\n",
    "\n",
    "Pegando a intuição\n",
    "----\n",
    "Analise a imagem abaixo. Digamos que você quer descobrir se o misterioso círculo verde é na verdade um Triângulo Vermelho ou Quadrado Azul. O que você faria?"
   ]
  },
  {
   "attachments": {},
   "cell_type": "markdown",
   "metadata": {},
   "source": [
    "![title](src/knn.png)\n",
    "*Fonte: Wikipedia*"
   ]
  },
  {
   "cell_type": "markdown",
   "metadata": {},
   "source": [
    "Uma opção seria pegar os três vizinhos mais próximos e adivinhar que o círculo verde é provavelmente um Triângulo Vermelho. Você poderia, ainda, expandir o circulo além e analisar os cinco vizinhos mais próximos para classificar (3 de 5 vizinhos mais próximos são Quadrados Azuis, então podemos adivinhar que o misterioso círculo verde é um Quadrado Azul quando k=5).\n",
    "\n",
    "E fim. Isso é **k-nearest neighbors**. Você pega os *k* vizinhos (ou dados) mais próximos e faz a média de seus valores se a variável for contínua (como preço de um produto) ou a moda se a variável for categórica (como Quadrado Azul vs Triângulo Vermelho)."
   ]
  },
  {
   "attachments": {},
   "cell_type": "markdown",
   "metadata": {},
   "source": [
    "Implementando\n",
    "---\n",
    "Esta implementação será específica para classificação (variável categórica) e demonstraremos usando o exemplo das plantas da espécie Iris, que tem 3 subtipos:\n",
    "- Iris setosa\n",
    "- Iris virginica\n",
    "- Iris versicolor\n",
    "\n",
    "![title](src/iris.png)\n",
    "Iremos elaborar um modelo que irá fazer predições baseado em duas medidas para a sépala e para a pétala: a largura e comprimento."
   ]
  },
  {
   "cell_type": "markdown",
   "metadata": {},
   "source": [
    "Sobre o kNN\n",
    "---\n",
    "O fato de o kNN não depender de uma função paramétrica pré-definida *f(X)* relacionando uma classe *Y* com um dado *X* o torna adequado para situações em que a relação entre os atributos de *X* é muito complexa para ser expressa através de um simples modelo linear. "
   ]
  },
  {
   "cell_type": "markdown",
   "metadata": {},
   "source": [
    "\n"
   ]
  },
  {
   "cell_type": "code",
   "execution_count": null,
   "metadata": {
    "collapsed": true
   },
   "outputs": [],
   "source": []
  }
 ],
 "metadata": {
  "kernelspec": {
   "display_name": "Python 3",
   "language": "python",
   "name": "python3"
  },
  "language_info": {
   "codemirror_mode": {
    "name": "ipython",
    "version": 2
   },
   "file_extension": ".py",
   "mimetype": "text/x-python",
   "name": "python",
   "nbconvert_exporter": "python",
   "pygments_lexer": "ipython2",
   "version": "2.7.13"
  }
 },
 "nbformat": 4,
 "nbformat_minor": 2
}
