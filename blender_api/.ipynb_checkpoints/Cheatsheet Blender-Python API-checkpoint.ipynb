{
 "cells": [
  {
   "cell_type": "markdown",
   "metadata": {},
   "source": [
    "<h1><strong>Cheatsheet</strong>: brincando com a API Python do Blender.</h1>"
   ]
  },
  {
   "cell_type": "markdown",
   "metadata": {},
   "source": [
    "<h2>SNIPPETS DE UMA LINHA</h2>"
   ]
  },
  {
   "cell_type": "markdown",
   "metadata": {},
   "source": [
    "pega o objeto atualmente sendo editado.\n",
    "Se nao estiver em modo de edição, não retorna nada."
   ]
  },
  {
   "cell_type": "code",
   "execution_count": null,
   "metadata": {
    "collapsed": true
   },
   "outputs": [],
   "source": [
    "bpy.context.edit_object"
   ]
  },
  {
   "cell_type": "markdown",
   "metadata": {},
   "source": [
    "Troca entre modo de edição ativado e desativado."
   ]
  },
  {
   "cell_type": "code",
   "execution_count": null,
   "metadata": {
    "collapsed": true
   },
   "outputs": [],
   "source": [
    "bpy.ops.object.editmode_toggle()"
   ]
  },
  {
   "cell_type": "markdown",
   "metadata": {},
   "source": [
    "A localização de um objeto:"
   ]
  },
  {
   "cell_type": "code",
   "execution_count": null,
   "metadata": {
    "collapsed": true
   },
   "outputs": [],
   "source": [
    "bpy.data.objects[\"Cube\"].delta_location #pode somar para modificar!"
   ]
  },
  {
   "cell_type": "markdown",
   "metadata": {},
   "source": [
    "A seguir sobre mexer com os atributos de objetos:"
   ]
  },
  {
   "cell_type": "code",
   "execution_count": null,
   "metadata": {
    "collapsed": true
   },
   "outputs": [],
   "source": [
    "bpy.data.scenes #pega as cenas\n",
    "bpy.data.scenes[0].objects #pega os objetos de uma cena\n",
    "bpy.data.scenes[0].objects[0].data #aqui pode acessar os atributos de um objeto.\n",
    "#Por exemplo:\n",
    "bpy.data.scenes[0].objects[0].data.vertices # é uma lista de todos vértices do objeto.\n",
    "bpy.data.scenes[0].objects[0].data.vertices[0].co # são as coordenadas de um dos vértices.\n",
    "#Também dá pra fazer:\n",
    "bpy.data.scenes[0].objects[0].data.vertices[0].co.x #.y ou .z também"
   ]
  },
  {
   "cell_type": "markdown",
   "metadata": {},
   "source": [
    "Observação: mexer com a coordenada de um vértice só funciona se não estiver em edit_mode."
   ]
  },
  {
   "cell_type": "code",
   "execution_count": null,
   "metadata": {
    "collapsed": true
   },
   "outputs": [],
   "source": [
    "bpy.data.scenes[0].objects[0].data.vertices[0].co += mathutils.Vector((0,0,2))"
   ]
  },
  {
   "cell_type": "markdown",
   "metadata": {},
   "source": [
    "Criação e deleção de objetos é feita assim:"
   ]
  },
  {
   "cell_type": "code",
   "execution_count": null,
   "metadata": {
    "collapsed": true
   },
   "outputs": [],
   "source": [
    "mesh = bpy.data.meshes.new(name=\"MyMesh\")\n",
    "bpy.data.meshes.remove(mesh)"
   ]
  },
  {
   "cell_type": "markdown",
   "metadata": {},
   "source": [
    "Como deletar um objeto específico:"
   ]
  },
  {
   "cell_type": "code",
   "execution_count": null,
   "metadata": {
    "collapsed": true
   },
   "outputs": [],
   "source": [
    "# seleção\n",
    "bpy.data.objects['Cube'].select = True\n",
    "\n",
    "# remoção\n",
    "bpy.ops.object.delete()"
   ]
  },
  {
   "cell_type": "markdown",
   "metadata": {},
   "source": [
    "<h2>SNIPPETS DE CORPO</h2>"
   ]
  },
  {
   "cell_type": "markdown",
   "metadata": {},
   "source": [
    "Selecionar vertices de uma mesh"
   ]
  },
  {
   "cell_type": "code",
   "execution_count": null,
   "metadata": {
    "collapsed": true
   },
   "outputs": [],
   "source": [
    "import bpy,bmesh\n",
    "\n",
    "ob = bpy.data.objects['wave']\n",
    "bpy.context.scene.objects.active = ob\n",
    "bpy.ops.object.mode_set(mode='EDIT')\n",
    "mesh=bmesh.from_edit_mesh(bpy.context.object.data)\n",
    "for v in mesh.verts:\n",
    "    v.select = True\n",
    "\n",
    "# trigger viewport update\n",
    "bpy.context.scene.objects.active = bpy.context.scene.objects.active"
   ]
  },
  {
   "cell_type": "markdown",
   "metadata": {},
   "source": [
    "Como criar uma mesh, acrescentar vértices e torná-la um objeto:"
   ]
  },
  {
   "cell_type": "code",
   "execution_count": null,
   "metadata": {
    "collapsed": true
   },
   "outputs": [],
   "source": [
    "import bmesh\n",
    "\n",
    "verts = [(1, 1, 1), (0.5, 0.5, 0.5)]  # 2 verts made with XYZ coords\n",
    "mesh = bpy.data.meshes.new(\"mesh\")  # add a new mesh\n",
    "obj = bpy.data.objects.new(\"MyObject\", mesh)  # add a new object using the mesh\n",
    "\n",
    "scene = bpy.context.scene\n",
    "scene.objects.link(obj)  # put the object into the scene (link)\n",
    "scene.objects.active = obj  # set as the active object in the scene\n",
    "obj.select = True  # select object\n",
    "\n",
    "mesh = bpy.context.object.data\n",
    "bm = bmesh.new()\n",
    "\n",
    "for v in verts:\n",
    "    bm.verts.new(v)  # add a new vert\n",
    "\n",
    "# make the bmesh the object's mesh\n",
    "bm.to_mesh(mesh)  \n",
    "bm.free()  # always do this when finished"
   ]
  },
  {
   "cell_type": "markdown",
   "metadata": {},
   "source": [
    "Como acrescentar vértices a uma mesh já existente:"
   ]
  },
  {
   "cell_type": "code",
   "execution_count": null,
   "metadata": {
    "collapsed": true
   },
   "outputs": [],
   "source": [
    "import bmesh\n",
    "\n",
    "verts = [(1, 1, 1), (0, 0, 0)]  # 2 verts made with XYZ coords\n",
    "mesh = bpy.context.object.data\n",
    "bm = bmesh.new()\n",
    "\n",
    "# convert the current mesh to a bmesh (must be in edit mode)\n",
    "bpy.ops.object.mode_set(mode='EDIT')\n",
    "bm.from_mesh(mesh)\n",
    "bpy.ops.object.mode_set(mode='OBJECT')  # return to object mode\n",
    "\n",
    "for v in verts:\n",
    "    bm.verts.new(v)  # add a new vert\n",
    "\n",
    "# make the bmesh the object's mesh\n",
    "bm.to_mesh(mesh)  \n",
    "bm.free()  # always do this when finished"
   ]
  },
  {
   "cell_type": "markdown",
   "metadata": {},
   "source": [
    "Criar mesh, transformar em objeto, criar vértices nesse objeto e depois fechar uma face:"
   ]
  },
  {
   "cell_type": "code",
   "execution_count": null,
   "metadata": {
    "collapsed": true
   },
   "outputs": [],
   "source": [
    "import bmesh\n",
    "\n",
    "mesh = bpy.data.meshes.new(\"mesh\")  # add a new mesh\n",
    "obj = bpy.data.objects.new(\"MyObject\", mesh)  # add a new object using the mesh\n",
    "\n",
    "scene = bpy.context.scene\n",
    "scene.objects.link(obj)  # put the object into the scene (link)\n",
    "scene.objects.active = obj  # set as the active object in the scene\n",
    "obj.select = True  # select object\n",
    "\n",
    "mesh = bpy.context.object.data\n",
    "\n",
    "#PRECISA ESTAR EM EDIT MODE:\n",
    "bpy.ops.object.mode_set(mode='EDIT')\n",
    "\n",
    "bm = bmesh.from_edit_mesh(mesh)\n",
    "\n",
    "v1 = bm.verts.new((2.0, 2.0, 2.0))\n",
    "v2 = bm.verts.new((-2.0, 2.0, 2.0))\n",
    "v3 = bm.verts.new((-2.0, -2.0, 2.0))\n",
    "\n",
    "bm.faces.new((v1, v2, v3))\n",
    "\n",
    "bmesh.update_edit_mesh(obj.data)\n",
    "\n",
    "#VOLTANDO AO OBJ MODE:\n",
    "bpy.ops.object.mode_set(mode='OBJECT')"
   ]
  },
  {
   "cell_type": "markdown",
   "metadata": {
    "collapsed": true
   },
   "source": [
    "<strong>SUPERFÍCIE EM ONDA</strong>"
   ]
  },
  {
   "cell_type": "code",
   "execution_count": null,
   "metadata": {
    "collapsed": true
   },
   "outputs": [],
   "source": [
    "import bpy, math\n",
    "# mesh arrays\n",
    "verts = []  # the vertex array\n",
    "faces = []  # the face array\n",
    " \n",
    "# mesh variables\n",
    "numX = 10  # number of quadrants in the x direction\n",
    "numY = 10  # number of quadrants in the y direction\n",
    " \n",
    "# wave variables\n",
    "freq = 1  # the wave frequency\n",
    "amp = 1  # the wave amplitude\n",
    "scale = 1  #the scale of the mesh\n",
    "\n",
    "#fill verts array\n",
    "for i in range (0, numX):\n",
    "    for j in range(0,numY):\n",
    "        x = scale * i\n",
    "        y = scale * j\n",
    "        z = scale*((amp*math.cos(i*freq))+(amp*math.sin(j*freq)))\n",
    "        vert = (x,y,z) \n",
    "        verts.append(vert)\n",
    " \n",
    "#create mesh and object\n",
    "mesh = bpy.data.meshes.new(\"wave\")\n",
    "object = bpy.data.objects.new(\"wave\",mesh)\n",
    " \n",
    "#set mesh location\n",
    "object.location = bpy.context.scene.cursor_location\n",
    "bpy.context.scene.objects.link(object)\n",
    " \n",
    "#create mesh from python data\n",
    "mesh.from_pydata(verts,[],faces)\n",
    "mesh.update(calc_edges=True)"
   ]
  }
 ],
 "metadata": {
  "kernelspec": {
   "display_name": "Python 2",
   "language": "python",
   "name": "python2"
  },
  "language_info": {
   "codemirror_mode": {
    "name": "ipython",
    "version": 2
   },
   "file_extension": ".py",
   "mimetype": "text/x-python",
   "name": "python",
   "nbconvert_exporter": "python",
   "pygments_lexer": "ipython2",
   "version": "2.7.12"
  }
 },
 "nbformat": 4,
 "nbformat_minor": 1
}
