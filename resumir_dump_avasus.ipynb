{
 "cells": [
  {
   "cell_type": "code",
   "execution_count": 2,
   "metadata": {
    "collapsed": true
   },
   "outputs": [],
   "source": [
    "# ==================================================\n",
    "\n",
    "# SETUP INICIAL: IMPORT E VARIAVEIS\n",
    "\n",
    "from __future__ import print_function\n",
    "# Diretorio do seu DUMP\n",
    "dump = \"/media/diego/OS/Users/Diego/Desktop/baseavas.sql\"\n",
    "dump_resumido = \"baseavas_resumido.sql\"\n",
    "linhas_por_tabela = 30\n",
    "\n",
    "# =================================================="
   ]
  },
  {
   "cell_type": "code",
   "execution_count": null,
   "metadata": {
    "collapsed": true
   },
   "outputs": [],
   "source": [
    "# ==================================================\n",
    "\n",
    "# BUSCAR OS INSERTS EM UMA TABELA ESPECÍFICA:\n",
    "# PRINTA CADA LINHA PARA VOCE VER E ESCOLHER AS QUE ESTAO COM SINTAXE CORRETA    \n",
    "# nome da tabela:\n",
    "tabela_buscada = 'avs2_avasus_instituicao'\n",
    "\n",
    "with open(dump, 'r') as f:\n",
    "    tracker = {}\n",
    "    tracker[tabela_buscada] = 1\n",
    "    tabela_anterior = None\n",
    "    for line in f:\n",
    "        if line.startswith('INSERT'):\n",
    "            split = line.split()\n",
    "            tabela = split[2]\n",
    "            \n",
    "            if tabela not in tracker:\n",
    "                tracker[tabela] = 1\n",
    "            else:\n",
    "                tracker[tabela] += 1\n",
    "                \n",
    "            if tracker[tabela] <= linhas_por_tabela and tabela == tabela_buscada:\n",
    "#               printar apenas a tabela que voce pediu\n",
    "                print (line)\n",
    "                \n",
    "            if tracker[tabela_buscada] > linhas_por_tabela:\n",
    "#              limite de linhas\n",
    "                break\n",
    "                \n",
    "            if tabela != tabela_anterior:\n",
    "\n",
    "                if tabela_anterior == tabela_buscada:\n",
    "#                   parar de buscar depois de achar a tabela\n",
    "                    break\n",
    "                else:\n",
    "                    tabela_anterior = tabela\n",
    "                \n",
    "# =================================================="
   ]
  },
  {
   "cell_type": "code",
   "execution_count": 3,
   "metadata": {
    "collapsed": false
   },
   "outputs": [
    {
     "name": "stdout",
     "output_type": "stream",
     "text": [
      "INSERT INTO avs2__dw_config (id, ult_data_ref_dashboard) VALUES (1, '2016-07-15');\n",
      "\n",
      "44599\n",
      "44599\n"
     ]
    }
   ],
   "source": [
    "with open(dump_resumido, 'r') as f:\n",
    "    contador = 0\n",
    "    for line in f:\n",
    "        contador +=1\n",
    "#         if contador > 22150 and contador < 23350:\n",
    "#             print (line)\n",
    "        if line.startswith('INSERT'):\n",
    "            print (line)\n",
    "            print (contador)\n",
    "            break\n",
    "            \n",
    "#         if contador > 25000:\n",
    "#             break\n",
    "    print (contador)"
   ]
  },
  {
   "cell_type": "code",
   "execution_count": 4,
   "metadata": {
    "collapsed": false
   },
   "outputs": [],
   "source": [
    "# ==================================================\n",
    "# RESUMIR O DUMP: NAO FUNCIONA DIREITO POIS ALGUNS INSERTS ESTÃO\n",
    "# EM MAIS DE UMA LINHA, DAI ISSO CAUSA ERROS DE SINTAXE NO ARQUIVO RESULTANTE\n",
    "\n",
    "with open(dump, 'r') as f:\n",
    "    resumo = open(dump_resumido, 'w')\n",
    "    tracker = {}\n",
    "    for line in f:\n",
    "        if not line.startswith('INSERT INTO'):\n",
    "            print (line, file=resumo)\n",
    "        else:\n",
    "            split = line.split()\n",
    "            if split[1] != 'INTO' or split[3][0] != '(':\n",
    "                continue\n",
    "            tabela = split[2]\n",
    "            \n",
    "            if tabela not in tracker:\n",
    "                tracker[tabela] = 1\n",
    "            else:\n",
    "                tracker[tabela] += 1\n",
    "                \n",
    "            if tracker[tabela] <= linhas_por_tabela:\n",
    "                print (line, file=resumo)\n",
    "           \n",
    "    \n",
    "    f.close()\n",
    "        \n",
    "# =================================================="
   ]
  },
  {
   "cell_type": "code",
   "execution_count": null,
   "metadata": {
    "collapsed": true
   },
   "outputs": [],
   "source": []
  }
 ],
 "metadata": {
  "kernelspec": {
   "display_name": "Python 2",
   "language": "python",
   "name": "python2"
  },
  "language_info": {
   "codemirror_mode": {
    "name": "ipython",
    "version": 2
   },
   "file_extension": ".py",
   "mimetype": "text/x-python",
   "name": "python",
   "nbconvert_exporter": "python",
   "pygments_lexer": "ipython2",
   "version": "2.7.12"
  }
 },
 "nbformat": 4,
 "nbformat_minor": 1
}
