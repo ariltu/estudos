{
 "cells": [
  {
   "cell_type": "code",
   "execution_count": 25,
   "metadata": {
    "collapsed": false
   },
   "outputs": [],
   "source": [
    "def queue_time(customers, n):\n",
    "    tills = [0] * n if n > 0 else 1\n",
    "    tills_pos = 0 \n",
    "    for customer in customers:\n",
    "        tills[tills_pos] += customer\n",
    "        tills_pos = tills_pos+1 if tills_pos < n-1 else 0\n",
    "        \n",
    "    return max(tills)"
   ]
  },
  {
   "cell_type": "code",
   "execution_count": 26,
   "metadata": {
    "collapsed": false
   },
   "outputs": [
    {
     "name": "stdout",
     "output_type": "stream",
     "text": [
      "45 para till  1\n",
      "46 para till  2\n",
      "48 para till  3\n",
      "3 para till  4\n",
      "6 para till  5\n",
      "37 para till  6\n",
      "48 para till  1\n",
      "38 para till  2\n",
      "44 para till  3\n",
      "36 para till  4\n",
      "34 para till  5\n",
      "50 para till  6\n",
      "10 para till  1\n",
      "35 para till  2\n",
      "17 para till  3\n",
      "39 para till  4\n"
     ]
    },
    {
     "data": {
      "text/plain": [
       "119"
      ]
     },
     "execution_count": 26,
     "metadata": {},
     "output_type": "execute_result"
    }
   ],
   "source": [
    "queue_time([45, 46, 48, 3, 6, 37, 48, 38, 44, 36, 34, 50, 10, 35, 17, 39],6)"
   ]
  },
  {
   "cell_type": "code",
   "execution_count": null,
   "metadata": {
    "collapsed": true
   },
   "outputs": [],
   "source": []
  },
  {
   "cell_type": "code",
   "execution_count": 88,
   "metadata": {
    "collapsed": false
   },
   "outputs": [],
   "source": [
    "def tower_builder(n_floors):\n",
    "    blocks = lambda x: 1 + (x-1)*2\n",
    "    max_blocks = blocks(n_floors)\n",
    "    floor = lambda x: (max_blocks - blocks(x))/2 * ' ' + '*'*blocks(x) + (max_blocks-blocks(x))/2*' '\n",
    "    return [floor(x) for x in range(1, n_floors+1)]"
   ]
  },
  {
   "cell_type": "code",
   "execution_count": 93,
   "metadata": {
    "collapsed": false
   },
   "outputs": [],
   "source": [
    "def divisao_teto(a, b):\n",
    "    return -(-a // b)"
   ]
  },
  {
   "cell_type": "code",
   "execution_count": 100,
   "metadata": {
    "collapsed": false
   },
   "outputs": [
    {
     "data": {
      "text/plain": [
       "'  a  '"
      ]
     },
     "execution_count": 100,
     "metadata": {},
     "output_type": "execute_result"
    }
   ],
   "source": [
    "'a'.center(5)"
   ]
  },
  {
   "cell_type": "code",
   "execution_count": 8,
   "metadata": {
    "collapsed": false
   },
   "outputs": [],
   "source": [
    "reduce(lambda x, y: x + y, range(2))\n",
    "sum(range(2))\n",
    "def get_sum(a,b):\n",
    "    if a >= b:\n",
    "        return sum(range(a,b+1))\n",
    "    else:\n",
    "        return sum(range(b,a+1))"
   ]
  },
  {
   "cell_type": "code",
   "execution_count": 198,
   "metadata": {
    "collapsed": false
   },
   "outputs": [
    {
     "data": {
      "text/plain": [
       "'diego'"
      ]
     },
     "execution_count": 198,
     "metadata": {},
     "output_type": "execute_result"
    }
   ],
   "source": [
    "def namelist(names):\n",
    "    names = [x['name'] for x in names]\n",
    "    seps = [', '] * (len(names)-2)\n",
    "    seps += [\" & \",''] if len(names) > 1 else ['']\n",
    "    string = ''\n",
    "    while seps:\n",
    "        string += names.pop(0)+seps.pop(0)\n",
    "        if names:\n",
    "            string += names.pop(0)+seps.pop(0)\n",
    "    return string\n",
    "namelist([{'name': 'diego'},{'name': 'diego'},{'name': 'diego'}])"
   ]
  },
  {
   "cell_type": "code",
   "execution_count": 2,
   "metadata": {
    "collapsed": false
   },
   "outputs": [],
   "source": [
    "def unique_in_order(iterable):\n",
    "    past = None\n",
    "    r = []\n",
    "    for x in iterable:\n",
    "        if x != past:\n",
    "            r.append(x)\n",
    "        past = x\n",
    "    return r\n",
    "    "
   ]
  },
  {
   "cell_type": "code",
   "execution_count": 12,
   "metadata": {
    "collapsed": false
   },
   "outputs": [
    {
     "name": "stdout",
     "output_type": "stream",
     "text": [
      "A : A A\n",
      "B : B B\n",
      "C : C C\n",
      "D : D D\n"
     ]
    }
   ],
   "source": [
    "from itertools import groupby\n",
    "for x, _ in groupby('AABBCCDD'):\n",
    "    print x,':',\n",
    "    for a in _:\n",
    "        print a,\n",
    "    print"
   ]
  },
  {
   "cell_type": "code",
   "execution_count": 4,
   "metadata": {
    "collapsed": true
   },
   "outputs": [],
   "source": [
    "def iq_test(numbers):\n",
    "    numbers = [int(x) for x in numbers.split()]\n",
    "    evens = [x%2==0 for x in numbers[:3]]\n",
    "    ratio = sum(evens)/len(evens)\n",
    "    print ratio\n",
    "    if ratio > 0.5:\n",
    "        for i, x in enumerate(numbers):\n",
    "            if x%2!=0:\n",
    "                return i+1\n",
    "    else:\n",
    "        for i, x in enumerate(numbers):\n",
    "            if x%2==0:\n",
    "                return i+1"
   ]
  },
  {
   "cell_type": "code",
   "execution_count": 8,
   "metadata": {
    "collapsed": false
   },
   "outputs": [],
   "source": [
    "def iq_test(numbers):\n",
    "    e = [int(i) % 2 == 0 for i in numbers.split()]\n",
    "\n",
    "    return e.index(True) + 1 if e.count(True) == 1 else e.index(False) + 1"
   ]
  },
  {
   "cell_type": "code",
   "execution_count": 30,
   "metadata": {
    "collapsed": true
   },
   "outputs": [],
   "source": [
    "def digital_root(n):\n",
    "    sum = 0\n",
    "    while n>0:\n",
    "        sum += n%10;\n",
    "        n /= 10\n",
    "    return sum if sum < 10 else digital_root(sum)"
   ]
  },
  {
   "cell_type": "code",
   "execution_count": 32,
   "metadata": {
    "collapsed": false
   },
   "outputs": [],
   "source": [
    "def digitalroot(n):\n",
    "  return n%9 or n and 9 "
   ]
  }
 ],
 "metadata": {
  "kernelspec": {
   "display_name": "Python 2",
   "language": "python",
   "name": "python2"
  },
  "language_info": {
   "codemirror_mode": {
    "name": "ipython",
    "version": 2
   },
   "file_extension": ".py",
   "mimetype": "text/x-python",
   "name": "python",
   "nbconvert_exporter": "python",
   "pygments_lexer": "ipython2",
   "version": "2.7.12"
  }
 },
 "nbformat": 4,
 "nbformat_minor": 1
}
